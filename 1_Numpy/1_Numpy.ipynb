{
 "cells": [
  {
   "cell_type": "code",
   "execution_count": 1,
   "metadata": {},
   "outputs": [],
   "source": [
    "x = 2+3"
   ]
  },
  {
   "cell_type": "code",
   "execution_count": 2,
   "metadata": {},
   "outputs": [
    {
     "data": {
      "text/plain": [
       "5"
      ]
     },
     "execution_count": 2,
     "metadata": {},
     "output_type": "execute_result"
    }
   ],
   "source": [
    "x"
   ]
  },
  {
   "cell_type": "code",
   "execution_count": 3,
   "metadata": {},
   "outputs": [],
   "source": [
    "x = 4"
   ]
  },
  {
   "cell_type": "code",
   "execution_count": 4,
   "metadata": {},
   "outputs": [
    {
     "data": {
      "text/plain": [
       "4"
      ]
     },
     "execution_count": 4,
     "metadata": {},
     "output_type": "execute_result"
    }
   ],
   "source": [
    "x"
   ]
  },
  {
   "cell_type": "markdown",
   "metadata": {},
   "source": [
    "Ini Bukan Code\n",
    "\n",
    "$\\displaystyle s = \\sqrt\\frac{\\sum(x_{i}-\\mu)^2}{n}$\n",
    "\n"
   ]
  },
  {
   "cell_type": "markdown",
   "metadata": {},
   "source": [
    "# __1. Intro to Numpy__"
   ]
  },
  {
   "cell_type": "code",
   "execution_count": 5,
   "metadata": {},
   "outputs": [],
   "source": [
    "import numpy as np"
   ]
  },
  {
   "cell_type": "code",
   "execution_count": 6,
   "metadata": {},
   "outputs": [
    {
     "data": {
      "text/plain": [
       "[1, 2, 3]"
      ]
     },
     "execution_count": 6,
     "metadata": {},
     "output_type": "execute_result"
    }
   ],
   "source": [
    "my_list = [1,2,3]\n",
    "my_list"
   ]
  },
  {
   "cell_type": "code",
   "execution_count": 7,
   "metadata": {},
   "outputs": [
    {
     "name": "stdout",
     "output_type": "stream",
     "text": [
      "<class 'list'>\n"
     ]
    }
   ],
   "source": [
    "print(type(my_list))"
   ]
  },
  {
   "cell_type": "code",
   "execution_count": 8,
   "metadata": {},
   "outputs": [],
   "source": [
    "my_array = np.array(my_list)"
   ]
  },
  {
   "cell_type": "code",
   "execution_count": 9,
   "metadata": {},
   "outputs": [
    {
     "name": "stdout",
     "output_type": "stream",
     "text": [
      "[1, 2, 3]\n",
      "[1 2 3]\n"
     ]
    }
   ],
   "source": [
    "print (my_list)\n",
    "print (my_array)"
   ]
  },
  {
   "cell_type": "code",
   "execution_count": 10,
   "metadata": {},
   "outputs": [
    {
     "data": {
      "text/plain": [
       "array([1, 2, 3])"
      ]
     },
     "execution_count": 10,
     "metadata": {},
     "output_type": "execute_result"
    }
   ],
   "source": [
    "my_array"
   ]
  },
  {
   "cell_type": "code",
   "execution_count": 11,
   "metadata": {},
   "outputs": [
    {
     "name": "stdout",
     "output_type": "stream",
     "text": [
      "<class 'list'>\n",
      "<class 'numpy.ndarray'>\n"
     ]
    }
   ],
   "source": [
    "print (type(my_list))\n",
    "print (type(my_array))"
   ]
  },
  {
   "cell_type": "code",
   "execution_count": 12,
   "metadata": {},
   "outputs": [
    {
     "name": "stdout",
     "output_type": "stream",
     "text": [
      "['a', 'b', 'c', 4, 5]\n",
      "['a' 'b' 'c' '4' '5']\n"
     ]
    }
   ],
   "source": [
    "my_list2 = ['a','b','c',4,5]\n",
    "my_array2= np.array (my_list2)\n",
    "\n",
    "print (my_list2)\n",
    "print (my_array2)"
   ]
  },
  {
   "cell_type": "code",
   "execution_count": 13,
   "metadata": {},
   "outputs": [
    {
     "name": "stdout",
     "output_type": "stream",
     "text": [
      "4\n",
      "4\n"
     ]
    }
   ],
   "source": [
    "print (my_list2[3])\n",
    "print (my_array2[3])"
   ]
  },
  {
   "cell_type": "code",
   "execution_count": 14,
   "metadata": {},
   "outputs": [
    {
     "name": "stdout",
     "output_type": "stream",
     "text": [
      "<class 'int'>\n",
      "<class 'numpy.str_'>\n"
     ]
    }
   ],
   "source": [
    "print (type(my_list2[3]))\n",
    "print (type(my_array2[3]))"
   ]
  },
  {
   "cell_type": "code",
   "execution_count": 15,
   "metadata": {},
   "outputs": [
    {
     "name": "stdout",
     "output_type": "stream",
     "text": [
      "[1.0, 2.5, 4.5, 5, 6, 7]\n",
      "[1.  2.5 4.5 5.  6.  7. ]\n"
     ]
    }
   ],
   "source": [
    "my_list3 = [1.0, 2.5, 4.5, 5,6,7]\n",
    "my_array3 = np.array(my_list3)\n",
    "print (my_list3)\n",
    "print (my_array3)"
   ]
  },
  {
   "cell_type": "code",
   "execution_count": 16,
   "metadata": {},
   "outputs": [
    {
     "name": "stdout",
     "output_type": "stream",
     "text": [
      "<class 'list'>\n",
      "<class 'numpy.ndarray'>\n"
     ]
    }
   ],
   "source": [
    "i = 3\n",
    "print(type(my_list3))\n",
    "print(type(my_array3))"
   ]
  },
  {
   "cell_type": "markdown",
   "metadata": {},
   "source": [
    "## __Str<Float<int__"
   ]
  },
  {
   "cell_type": "code",
   "execution_count": 17,
   "metadata": {},
   "outputs": [
    {
     "data": {
      "text/plain": [
       "[1, 2, 3]"
      ]
     },
     "execution_count": 17,
     "metadata": {},
     "output_type": "execute_result"
    }
   ],
   "source": [
    "my_list"
   ]
  },
  {
   "cell_type": "code",
   "execution_count": 18,
   "metadata": {},
   "outputs": [],
   "source": [
    "my_list4 = [2,3,4]"
   ]
  },
  {
   "cell_type": "markdown",
   "metadata": {},
   "source": [
    "## __Operasi matematika (+) Menggunakan Array__"
   ]
  },
  {
   "cell_type": "code",
   "execution_count": 19,
   "metadata": {},
   "outputs": [
    {
     "data": {
      "text/plain": [
       "[1, 2, 3, 2, 3, 4]"
      ]
     },
     "execution_count": 19,
     "metadata": {},
     "output_type": "execute_result"
    }
   ],
   "source": [
    "my_list + my_list4"
   ]
  },
  {
   "cell_type": "code",
   "execution_count": 20,
   "metadata": {},
   "outputs": [
    {
     "data": {
      "text/plain": [
       "array([2, 3, 4])"
      ]
     },
     "execution_count": 20,
     "metadata": {},
     "output_type": "execute_result"
    }
   ],
   "source": [
    "my_array4 = np.array(my_list4)\n",
    "my_array4"
   ]
  },
  {
   "cell_type": "code",
   "execution_count": 21,
   "metadata": {},
   "outputs": [
    {
     "data": {
      "text/plain": [
       "array([3, 5, 7])"
      ]
     },
     "execution_count": 21,
     "metadata": {},
     "output_type": "execute_result"
    }
   ],
   "source": [
    "my_list + my_array4"
   ]
  },
  {
   "cell_type": "code",
   "execution_count": 22,
   "metadata": {},
   "outputs": [
    {
     "name": "stdout",
     "output_type": "stream",
     "text": [
      "[2 3 4]\n",
      "[4 5 6]\n"
     ]
    }
   ],
   "source": [
    "print(my_array4)\n",
    "print(my_array4+2)"
   ]
  },
  {
   "cell_type": "markdown",
   "metadata": {},
   "source": [
    "## __Operasi Matematika (x) Menggunakan Array__"
   ]
  },
  {
   "cell_type": "code",
   "execution_count": 23,
   "metadata": {},
   "outputs": [
    {
     "name": "stdout",
     "output_type": "stream",
     "text": [
      "[2 3 4] [1, 2, 3]\n",
      "[ 2  6 12]\n"
     ]
    }
   ],
   "source": [
    "print(my_array4, my_list)\n",
    "print(my_array4 * my_list)"
   ]
  },
  {
   "cell_type": "code",
   "execution_count": 24,
   "metadata": {},
   "outputs": [
    {
     "name": "stdout",
     "output_type": "stream",
     "text": [
      "[2 3 4] [1 2 3]\n",
      "[ 4  9 16]\n"
     ]
    }
   ],
   "source": [
    "print(my_array4, my_array)\n",
    "print(my_array4 * my_array4)"
   ]
  },
  {
   "cell_type": "markdown",
   "metadata": {},
   "source": [
    "## __Array 2 Dimensi__"
   ]
  },
  {
   "cell_type": "code",
   "execution_count": 25,
   "metadata": {},
   "outputs": [
    {
     "name": "stdout",
     "output_type": "stream",
     "text": [
      "[[1, 2, 3], [4, 5, 6], [7, 8, 9]]\n"
     ]
    }
   ],
   "source": [
    "list_of_list = [[1,2,3],[4,5,6],[7,8,9]]\n",
    "print(list_of_list)"
   ]
  },
  {
   "cell_type": "code",
   "execution_count": 26,
   "metadata": {},
   "outputs": [
    {
     "name": "stdout",
     "output_type": "stream",
     "text": [
      "[[1 2 3]\n",
      " [4 5 6]\n",
      " [7 8 9]]\n"
     ]
    }
   ],
   "source": [
    "my_matrix = np.array(list_of_list)\n",
    "print(my_matrix)"
   ]
  },
  {
   "cell_type": "markdown",
   "metadata": {},
   "source": [
    "## __Operasi Array dengan 2 dimensi__"
   ]
  },
  {
   "cell_type": "code",
   "execution_count": 27,
   "metadata": {},
   "outputs": [
    {
     "name": "stdout",
     "output_type": "stream",
     "text": [
      "[[ 4  5  6]\n",
      " [ 7  8  9]\n",
      " [10 11 12]]\n"
     ]
    }
   ],
   "source": [
    "print(my_matrix+3)"
   ]
  },
  {
   "cell_type": "code",
   "execution_count": 28,
   "metadata": {},
   "outputs": [
    {
     "data": {
      "text/plain": [
       "array([[ 2,  4,  6],\n",
       "       [ 8, 10, 12],\n",
       "       [14, 16, 18]])"
      ]
     },
     "execution_count": 28,
     "metadata": {},
     "output_type": "execute_result"
    }
   ],
   "source": [
    "(my_matrix + list_of_list)"
   ]
  },
  {
   "cell_type": "code",
   "execution_count": 29,
   "metadata": {},
   "outputs": [
    {
     "data": {
      "text/plain": [
       "[[1, 2, 3], [4, 5, 6], [7, 8, 9]]"
      ]
     },
     "execution_count": 29,
     "metadata": {},
     "output_type": "execute_result"
    }
   ],
   "source": [
    "list_of_list"
   ]
  },
  {
   "cell_type": "code",
   "execution_count": 30,
   "metadata": {},
   "outputs": [
    {
     "data": {
      "text/plain": [
       "[7, 8, 9]"
      ]
     },
     "execution_count": 30,
     "metadata": {},
     "output_type": "execute_result"
    }
   ],
   "source": [
    "list_of_list[2]"
   ]
  },
  {
   "cell_type": "code",
   "execution_count": 31,
   "metadata": {},
   "outputs": [
    {
     "data": {
      "text/plain": [
       "9"
      ]
     },
     "execution_count": 31,
     "metadata": {},
     "output_type": "execute_result"
    }
   ],
   "source": [
    "list_of_list[2][2]"
   ]
  },
  {
   "cell_type": "code",
   "execution_count": 32,
   "metadata": {},
   "outputs": [
    {
     "name": "stdout",
     "output_type": "stream",
     "text": [
      "6\n",
      "6\n"
     ]
    }
   ],
   "source": [
    "#indexing : mengambil Value 6\n",
    "print(my_matrix[1,2])\n",
    "print(my_matrix[1][2])"
   ]
  },
  {
   "cell_type": "code",
   "execution_count": 33,
   "metadata": {},
   "outputs": [
    {
     "name": "stdout",
     "output_type": "stream",
     "text": [
      "[[10 11 12]\n",
      " [13 14 15]]\n"
     ]
    }
   ],
   "source": [
    "list_of_list2 = [[10,11,12],[13,14,15]]\n",
    "my_matrix2 = np.array(list_of_list2)\n",
    "print(my_matrix2)"
   ]
  },
  {
   "cell_type": "code",
   "execution_count": 34,
   "metadata": {},
   "outputs": [
    {
     "data": {
      "text/plain": [
       "(2, 3)"
      ]
     },
     "execution_count": 34,
     "metadata": {},
     "output_type": "execute_result"
    }
   ],
   "source": [
    "my_matrix2.shape #.shape adalah atribut"
   ]
  },
  {
   "cell_type": "code",
   "execution_count": 35,
   "metadata": {},
   "outputs": [
    {
     "name": "stdout",
     "output_type": "stream",
     "text": [
      "[1 2 3] [[1 2 3]\n",
      " [4 5 6]\n",
      " [7 8 9]]\n"
     ]
    }
   ],
   "source": [
    "print(my_array, my_matrix)"
   ]
  },
  {
   "cell_type": "code",
   "execution_count": 36,
   "metadata": {},
   "outputs": [
    {
     "name": "stdout",
     "output_type": "stream",
     "text": [
      "[[ 2  4  6]\n",
      " [ 5  7  9]\n",
      " [ 8 10 12]]\n"
     ]
    }
   ],
   "source": [
    "print(my_array + my_matrix)"
   ]
  },
  {
   "cell_type": "code",
   "execution_count": 37,
   "metadata": {},
   "outputs": [
    {
     "data": {
      "text/plain": [
       "[[[1, 2, 3], [2, 3, 4], [3, 4, 5]], [[4, 5, 6], [5, 6, 7], [6, 7, 8]]]"
      ]
     },
     "execution_count": 37,
     "metadata": {},
     "output_type": "execute_result"
    }
   ],
   "source": [
    "list_of_list3 =[[[1,2,3],[2,3,4],[3,4,5]],[[4,5,6],[5,6,7],[6,7,8]]]\n",
    "list_of_list3"
   ]
  },
  {
   "cell_type": "code",
   "execution_count": 38,
   "metadata": {},
   "outputs": [
    {
     "name": "stdout",
     "output_type": "stream",
     "text": [
      "[[[1 2 3]\n",
      "  [2 3 4]\n",
      "  [3 4 5]]\n",
      "\n",
      " [[4 5 6]\n",
      "  [5 6 7]\n",
      "  [6 7 8]]]\n"
     ]
    }
   ],
   "source": [
    "my_matrix3 = np.array(list_of_list3)\n",
    "print(my_matrix3)"
   ]
  },
  {
   "cell_type": "code",
   "execution_count": 39,
   "metadata": {},
   "outputs": [
    {
     "data": {
      "text/plain": [
       "4"
      ]
     },
     "execution_count": 39,
     "metadata": {},
     "output_type": "execute_result"
    }
   ],
   "source": [
    "my_matrix3[0][1][2]\n"
   ]
  },
  {
   "cell_type": "code",
   "execution_count": 40,
   "metadata": {},
   "outputs": [
    {
     "data": {
      "text/plain": [
       "(2, 3, 3)"
      ]
     },
     "execution_count": 40,
     "metadata": {},
     "output_type": "execute_result"
    }
   ],
   "source": [
    "my_matrix3.shape"
   ]
  },
  {
   "cell_type": "code",
   "execution_count": 41,
   "metadata": {},
   "outputs": [
    {
     "name": "stdout",
     "output_type": "stream",
     "text": [
      "[1 2 3]\n"
     ]
    },
    {
     "data": {
      "text/plain": [
       "(3,)"
      ]
     },
     "execution_count": 41,
     "metadata": {},
     "output_type": "execute_result"
    }
   ],
   "source": [
    "print(my_array)\n",
    "my_array.shape"
   ]
  },
  {
   "cell_type": "markdown",
   "metadata": {},
   "source": [
    "# __2.Build-in Method__"
   ]
  },
  {
   "cell_type": "markdown",
   "metadata": {},
   "source": [
    "## __2.1 arange()__"
   ]
  },
  {
   "cell_type": "code",
   "execution_count": 42,
   "metadata": {},
   "outputs": [
    {
     "data": {
      "text/plain": [
       "{0, 1, 2, 3, 4, 5, 6, 7, 8, 9}"
      ]
     },
     "execution_count": 42,
     "metadata": {},
     "output_type": "execute_result"
    }
   ],
   "source": [
    "#python\n",
    "ar1 = range(0,10)\n",
    "set(ar1)"
   ]
  },
  {
   "cell_type": "code",
   "execution_count": 43,
   "metadata": {},
   "outputs": [
    {
     "data": {
      "text/plain": [
       "array([0, 1, 2, 3, 4, 5, 6, 7, 8, 9])"
      ]
     },
     "execution_count": 43,
     "metadata": {},
     "output_type": "execute_result"
    }
   ],
   "source": [
    "#numpy\n",
    "nar1 = np.arange (0,10)\n",
    "nar1"
   ]
  },
  {
   "cell_type": "code",
   "execution_count": 44,
   "metadata": {},
   "outputs": [
    {
     "data": {
      "text/plain": [
       "[0, 2, 4, 6, 8]"
      ]
     },
     "execution_count": 44,
     "metadata": {},
     "output_type": "execute_result"
    }
   ],
   "source": [
    "#python\n",
    "ar2 = range (0,10,2)\n",
    "list (ar2)"
   ]
  },
  {
   "cell_type": "code",
   "execution_count": 45,
   "metadata": {},
   "outputs": [
    {
     "data": {
      "text/plain": [
       "array([0, 2, 4, 6, 8])"
      ]
     },
     "execution_count": 45,
     "metadata": {},
     "output_type": "execute_result"
    }
   ],
   "source": [
    "#numpy\n",
    "nar2 = np.arange(0,10,2)\n",
    "nar2"
   ]
  },
  {
   "cell_type": "markdown",
   "metadata": {},
   "source": [
    "## __2.2 np.zeros()&np.ones()__"
   ]
  },
  {
   "cell_type": "code",
   "execution_count": 46,
   "metadata": {},
   "outputs": [
    {
     "data": {
      "text/plain": [
       "array([0., 0., 0., 0., 0., 0., 0.])"
      ]
     },
     "execution_count": 46,
     "metadata": {},
     "output_type": "execute_result"
    }
   ],
   "source": [
    "zer1 = np.zeros(7)\n",
    "zer1"
   ]
  },
  {
   "cell_type": "code",
   "execution_count": 47,
   "metadata": {},
   "outputs": [
    {
     "data": {
      "text/plain": [
       "array([[0., 0., 0., 0., 0.],\n",
       "       [0., 0., 0., 0., 0.],\n",
       "       [0., 0., 0., 0., 0.],\n",
       "       [0., 0., 0., 0., 0.]])"
      ]
     },
     "execution_count": 47,
     "metadata": {},
     "output_type": "execute_result"
    }
   ],
   "source": [
    "zer2 = np.zeros((4,5))\n",
    "zer2"
   ]
  },
  {
   "cell_type": "code",
   "execution_count": 48,
   "metadata": {},
   "outputs": [
    {
     "data": {
      "text/plain": [
       "array([1., 1., 1., 1., 1., 1., 1.])"
      ]
     },
     "execution_count": 48,
     "metadata": {},
     "output_type": "execute_result"
    }
   ],
   "source": [
    "one1 = np.ones(7)\n",
    "one1\n"
   ]
  },
  {
   "cell_type": "code",
   "execution_count": 49,
   "metadata": {},
   "outputs": [
    {
     "data": {
      "text/plain": [
       "array([[1., 1.],\n",
       "       [1., 1.],\n",
       "       [1., 1.],\n",
       "       [1., 1.]])"
      ]
     },
     "execution_count": 49,
     "metadata": {},
     "output_type": "execute_result"
    }
   ],
   "source": [
    "one2 = np.ones((4,2))\n",
    "one2"
   ]
  },
  {
   "cell_type": "markdown",
   "metadata": {},
   "source": [
    "## __2.3 np.linspace() = membuat data dengan jarak antara data sama__"
   ]
  },
  {
   "cell_type": "code",
   "execution_count": 50,
   "metadata": {},
   "outputs": [
    {
     "data": {
      "text/plain": [
       "array([   0.,   10.,   20.,   30.,   40.,   50.,   60.,   70.,   80.,\n",
       "         90.,  100.,  110.,  120.,  130.,  140.,  150.,  160.,  170.,\n",
       "        180.,  190.,  200.,  210.,  220.,  230.,  240.,  250.,  260.,\n",
       "        270.,  280.,  290.,  300.,  310.,  320.,  330.,  340.,  350.,\n",
       "        360.,  370.,  380.,  390.,  400.,  410.,  420.,  430.,  440.,\n",
       "        450.,  460.,  470.,  480.,  490.,  500.,  510.,  520.,  530.,\n",
       "        540.,  550.,  560.,  570.,  580.,  590.,  600.,  610.,  620.,\n",
       "        630.,  640.,  650.,  660.,  670.,  680.,  690.,  700.,  710.,\n",
       "        720.,  730.,  740.,  750.,  760.,  770.,  780.,  790.,  800.,\n",
       "        810.,  820.,  830.,  840.,  850.,  860.,  870.,  880.,  890.,\n",
       "        900.,  910.,  920.,  930.,  940.,  950.,  960.,  970.,  980.,\n",
       "        990., 1000.])"
      ]
     },
     "execution_count": 50,
     "metadata": {},
     "output_type": "execute_result"
    }
   ],
   "source": [
    "lin1 = np.linspace(0,1000,101)\n",
    "lin1"
   ]
  },
  {
   "cell_type": "code",
   "execution_count": 51,
   "metadata": {},
   "outputs": [
    {
     "data": {
      "text/plain": [
       "(101,)"
      ]
     },
     "execution_count": 51,
     "metadata": {},
     "output_type": "execute_result"
    }
   ],
   "source": [
    "lin1.shape"
   ]
  },
  {
   "cell_type": "markdown",
   "metadata": {},
   "source": [
    "## __2.4 np.eye() & np.identity() = membuat data/,atrix dengan angka 1 pada area diagonal dari kiri ke kanan dan angka 0 di area yang lain__"
   ]
  },
  {
   "cell_type": "code",
   "execution_count": 52,
   "metadata": {},
   "outputs": [
    {
     "data": {
      "text/plain": [
       "array([[1., 0., 0., 0., 0.],\n",
       "       [0., 1., 0., 0., 0.],\n",
       "       [0., 0., 1., 0., 0.],\n",
       "       [0., 0., 0., 1., 0.],\n",
       "       [0., 0., 0., 0., 1.]])"
      ]
     },
     "execution_count": 52,
     "metadata": {},
     "output_type": "execute_result"
    }
   ],
   "source": [
    "eye1 = np.eye(5,5)\n",
    "eye1"
   ]
  },
  {
   "cell_type": "code",
   "execution_count": 53,
   "metadata": {},
   "outputs": [
    {
     "data": {
      "text/plain": [
       "array([[1., 0.],\n",
       "       [0., 1.],\n",
       "       [0., 0.],\n",
       "       [0., 0.],\n",
       "       [0., 0.]])"
      ]
     },
     "execution_count": 53,
     "metadata": {},
     "output_type": "execute_result"
    }
   ],
   "source": [
    "eye2 = np.eye(5,2)\n",
    "eye2"
   ]
  },
  {
   "cell_type": "code",
   "execution_count": 54,
   "metadata": {},
   "outputs": [
    {
     "data": {
      "text/plain": [
       "array([[0., 1., 0.],\n",
       "       [0., 0., 1.],\n",
       "       [0., 0., 0.]])"
      ]
     },
     "execution_count": 54,
     "metadata": {},
     "output_type": "execute_result"
    }
   ],
   "source": [
    "eye3 = np.eye(3, k=1)\n",
    "eye3"
   ]
  },
  {
   "cell_type": "code",
   "execution_count": 55,
   "metadata": {},
   "outputs": [
    {
     "data": {
      "text/plain": [
       "array([[1., 0., 0., 0.],\n",
       "       [0., 1., 0., 0.],\n",
       "       [0., 0., 1., 0.],\n",
       "       [0., 0., 0., 1.]])"
      ]
     },
     "execution_count": 55,
     "metadata": {},
     "output_type": "execute_result"
    }
   ],
   "source": [
    "iden1 = np.identity (4)\n",
    "iden1"
   ]
  },
  {
   "cell_type": "markdown",
   "metadata": {},
   "source": [
    "## __2.5 np.random.rand() = membuat array dengan random value 0-1__"
   ]
  },
  {
   "cell_type": "code",
   "execution_count": 56,
   "metadata": {},
   "outputs": [
    {
     "data": {
      "text/plain": [
       "array([0.87012414, 0.58227693, 0.27883894, 0.18591123, 0.41110013,\n",
       "       0.11737555, 0.68496874, 0.43761106, 0.55622933, 0.36708032])"
      ]
     },
     "execution_count": 56,
     "metadata": {},
     "output_type": "execute_result"
    }
   ],
   "source": [
    "np.random.seed(25) #mengontrol randomiceingnya\n",
    "rand1 = np.random.rand(10)\n",
    "rand1"
   ]
  },
  {
   "cell_type": "code",
   "execution_count": 57,
   "metadata": {},
   "outputs": [
    {
     "data": {
      "text/plain": [
       "array([[0.87012414, 0.58227693, 0.27883894, 0.18591123, 0.41110013],\n",
       "       [0.11737555, 0.68496874, 0.43761106, 0.55622933, 0.36708032],\n",
       "       [0.40236573, 0.1130407 , 0.44703085, 0.58544512, 0.1619851 ],\n",
       "       [0.52071879, 0.32605113, 0.69918624, 0.36639455, 0.83637451],\n",
       "       [0.48134294, 0.5165023 , 0.38304813, 0.9975409 , 0.51424449]])"
      ]
     },
     "execution_count": 57,
     "metadata": {},
     "output_type": "execute_result"
    }
   ],
   "source": [
    "np.random.seed(25) #mengontrol randomiceingnya\n",
    "rand2 = np.random.rand(5,5)\n",
    "rand2"
   ]
  },
  {
   "cell_type": "markdown",
   "metadata": {},
   "source": [
    "## __2.6 np.random.randint() = membuat data atau array dengan value random dan datanya berupa integer__"
   ]
  },
  {
   "cell_type": "code",
   "execution_count": 58,
   "metadata": {},
   "outputs": [
    {
     "data": {
      "text/plain": [
       "3"
      ]
     },
     "execution_count": 58,
     "metadata": {},
     "output_type": "execute_result"
    }
   ],
   "source": [
    "randint1 = np.random.randint(1,15) # 1 dimensi\n",
    "randint1 "
   ]
  },
  {
   "cell_type": "code",
   "execution_count": 59,
   "metadata": {},
   "outputs": [
    {
     "data": {
      "text/plain": [
       "array([13,  5,  3,  6,  9, 12,  1,  7,  5,  3])"
      ]
     },
     "execution_count": 59,
     "metadata": {},
     "output_type": "execute_result"
    }
   ],
   "source": [
    "randint2 = np.random.randint(1,15,10) #menampilkan 10 data\n",
    "randint2"
   ]
  },
  {
   "cell_type": "code",
   "execution_count": 60,
   "metadata": {},
   "outputs": [
    {
     "data": {
      "text/plain": [
       "array([[ 6, 10, 10,  7,  1],\n",
       "       [12,  3, 12, 11, 14],\n",
       "       [ 5,  4, 11,  2,  4],\n",
       "       [ 6, 11,  8,  3,  4],\n",
       "       [ 8, 11, 13,  8,  9]])"
      ]
     },
     "execution_count": 60,
     "metadata": {},
     "output_type": "execute_result"
    }
   ],
   "source": [
    "randint3 = np.random.randint(1,15,(5,5))\n",
    "randint3"
   ]
  },
  {
   "cell_type": "markdown",
   "metadata": {},
   "source": [
    "## __2.7 np.reshape() = mengubah bentuk dari arraynya__"
   ]
  },
  {
   "cell_type": "code",
   "execution_count": 61,
   "metadata": {},
   "outputs": [
    {
     "data": {
      "text/plain": [
       "array([4, 6, 6, 6, 4, 3, 9, 4, 1, 6, 9, 5, 4, 4, 6, 3, 8, 2, 7, 8])"
      ]
     },
     "execution_count": 61,
     "metadata": {},
     "output_type": "execute_result"
    }
   ],
   "source": [
    "my_array5 = np.random.randint (1,10,20)\n",
    "my_array5"
   ]
  },
  {
   "cell_type": "code",
   "execution_count": 62,
   "metadata": {},
   "outputs": [
    {
     "data": {
      "text/plain": [
       "(20,)"
      ]
     },
     "execution_count": 62,
     "metadata": {},
     "output_type": "execute_result"
    }
   ],
   "source": [
    "my_array5.shape"
   ]
  },
  {
   "cell_type": "code",
   "execution_count": 63,
   "metadata": {},
   "outputs": [
    {
     "data": {
      "text/plain": [
       "array([[[4, 6],\n",
       "        [6, 6],\n",
       "        [4, 3],\n",
       "        [9, 4],\n",
       "        [1, 6]],\n",
       "\n",
       "       [[9, 5],\n",
       "        [4, 4],\n",
       "        [6, 3],\n",
       "        [8, 2],\n",
       "        [7, 8]]])"
      ]
     },
     "execution_count": 63,
     "metadata": {},
     "output_type": "execute_result"
    }
   ],
   "source": [
    "my_matrix6 = my_array5.reshape(2,5,2)\n",
    "my_matrix6"
   ]
  },
  {
   "cell_type": "code",
   "execution_count": 64,
   "metadata": {},
   "outputs": [
    {
     "data": {
      "text/plain": [
       "array([9, 8, 4, 3, 4, 2, 8, 4, 9, 1, 1, 4, 8, 1, 1, 5, 5, 9, 7, 8, 1, 8,\n",
       "       3, 7, 1, 1, 5, 6, 4, 1, 1, 5, 2, 3, 7, 2, 6, 1, 4, 7, 2, 2, 3, 9,\n",
       "       7, 4, 5, 8, 1, 3, 8, 6, 8, 1, 8, 3, 1, 6, 7, 9, 7, 3, 3, 6, 6, 6,\n",
       "       5, 5, 8, 7, 1, 4, 9, 9, 1, 7, 7, 7, 1, 5, 8, 7, 7, 2, 4, 5, 8, 6,\n",
       "       5, 2, 1, 4, 3, 8, 3, 6, 3, 9, 4, 5, 9, 7, 1, 9, 1, 3, 1, 6, 2, 8,\n",
       "       7, 3, 8, 2, 2, 4, 8, 2, 3, 4, 4, 7, 6, 9, 1])"
      ]
     },
     "execution_count": 64,
     "metadata": {},
     "output_type": "execute_result"
    }
   ],
   "source": [
    "my_array6 = np.random.randint(1,10,125)\n",
    "my_array6"
   ]
  },
  {
   "cell_type": "code",
   "execution_count": 65,
   "metadata": {},
   "outputs": [
    {
     "data": {
      "text/plain": [
       "array([[9, 8, 4, 3, 4],\n",
       "       [2, 8, 4, 9, 1],\n",
       "       [1, 4, 8, 1, 1],\n",
       "       [5, 5, 9, 7, 8],\n",
       "       [1, 8, 3, 7, 1],\n",
       "       [1, 5, 6, 4, 1],\n",
       "       [1, 5, 2, 3, 7],\n",
       "       [2, 6, 1, 4, 7],\n",
       "       [2, 2, 3, 9, 7],\n",
       "       [4, 5, 8, 1, 3],\n",
       "       [8, 6, 8, 1, 8],\n",
       "       [3, 1, 6, 7, 9],\n",
       "       [7, 3, 3, 6, 6],\n",
       "       [6, 5, 5, 8, 7],\n",
       "       [1, 4, 9, 9, 1],\n",
       "       [7, 7, 7, 1, 5],\n",
       "       [8, 7, 7, 2, 4],\n",
       "       [5, 8, 6, 5, 2],\n",
       "       [1, 4, 3, 8, 3],\n",
       "       [6, 3, 9, 4, 5],\n",
       "       [9, 7, 1, 9, 1],\n",
       "       [3, 1, 6, 2, 8],\n",
       "       [7, 3, 8, 2, 2],\n",
       "       [4, 8, 2, 3, 4],\n",
       "       [4, 7, 6, 9, 1]])"
      ]
     },
     "execution_count": 65,
     "metadata": {},
     "output_type": "execute_result"
    }
   ],
   "source": [
    "my_matrix7 = my_array6.reshape(-1,5)\n",
    "my_matrix7"
   ]
  },
  {
   "cell_type": "markdown",
   "metadata": {},
   "source": [
    "## __2.8 arr.mx__\n"
   ]
  },
  {
   "cell_type": "code",
   "execution_count": 66,
   "metadata": {},
   "outputs": [
    {
     "data": {
      "text/plain": [
       "9"
      ]
     },
     "execution_count": 66,
     "metadata": {},
     "output_type": "execute_result"
    }
   ],
   "source": [
    "my_matrix6.max()"
   ]
  },
  {
   "cell_type": "code",
   "execution_count": 67,
   "metadata": {},
   "outputs": [
    {
     "data": {
      "text/plain": [
       "6"
      ]
     },
     "execution_count": 67,
     "metadata": {},
     "output_type": "execute_result"
    }
   ],
   "source": [
    "my_matrix6.argmax()"
   ]
  },
  {
   "cell_type": "code",
   "execution_count": 68,
   "metadata": {},
   "outputs": [],
   "source": [
    "flat = my_matrix7.flatten()\n",
    "ravel = my_matrix7.ravel() "
   ]
  },
  {
   "cell_type": "code",
   "execution_count": 69,
   "metadata": {},
   "outputs": [
    {
     "name": "stdout",
     "output_type": "stream",
     "text": [
      "[1 8 4 3 4 2 8 4 9 1 1 4 8 1 1 5 5 9 7 8 1 8 3 7 1 1 5 6 4 1 1 5 2 3 7 2 6\n",
      " 1 4 7 2 2 3 9 7 4 5 8 1 3 8 6 8 1 8 3 1 6 7 9 7 3 3 6 6 6 5 5 8 7 1 4 9 9\n",
      " 1 7 7 7 1 5 8 7 7 2 4 5 8 6 5 2 1 4 3 8 3 6 3 9 4 5 9 7 1 9 1 3 1 6 2 8 7\n",
      " 3 8 2 2 4 8 2 3 4 4 7 6 9 1]\n",
      "[[9 8 4 3 4]\n",
      " [2 8 4 9 1]\n",
      " [1 4 8 1 1]\n",
      " [5 5 9 7 8]\n",
      " [1 8 3 7 1]\n",
      " [1 5 6 4 1]\n",
      " [1 5 2 3 7]\n",
      " [2 6 1 4 7]\n",
      " [2 2 3 9 7]\n",
      " [4 5 8 1 3]\n",
      " [8 6 8 1 8]\n",
      " [3 1 6 7 9]\n",
      " [7 3 3 6 6]\n",
      " [6 5 5 8 7]\n",
      " [1 4 9 9 1]\n",
      " [7 7 7 1 5]\n",
      " [8 7 7 2 4]\n",
      " [5 8 6 5 2]\n",
      " [1 4 3 8 3]\n",
      " [6 3 9 4 5]\n",
      " [9 7 1 9 1]\n",
      " [3 1 6 2 8]\n",
      " [7 3 8 2 2]\n",
      " [4 8 2 3 4]\n",
      " [4 7 6 9 1]]\n"
     ]
    }
   ],
   "source": [
    "flat[0] = 1\n",
    "print(flat)\n",
    "print(my_matrix7)"
   ]
  },
  {
   "cell_type": "code",
   "execution_count": 70,
   "metadata": {},
   "outputs": [
    {
     "name": "stdout",
     "output_type": "stream",
     "text": [
      "[1 8 4 3 4 2 8 4 9 1 1 4 8 1 1 5 5 9 7 8 1 8 3 7 1 1 5 6 4 1 1 5 2 3 7 2 6\n",
      " 1 4 7 2 2 3 9 7 4 5 8 1 3 8 6 8 1 8 3 1 6 7 9 7 3 3 6 6 6 5 5 8 7 1 4 9 9\n",
      " 1 7 7 7 1 5 8 7 7 2 4 5 8 6 5 2 1 4 3 8 3 6 3 9 4 5 9 7 1 9 1 3 1 6 2 8 7\n",
      " 3 8 2 2 4 8 2 3 4 4 7 6 9 1]\n",
      "[[1 8 4 3 4]\n",
      " [2 8 4 9 1]\n",
      " [1 4 8 1 1]\n",
      " [5 5 9 7 8]\n",
      " [1 8 3 7 1]\n",
      " [1 5 6 4 1]\n",
      " [1 5 2 3 7]\n",
      " [2 6 1 4 7]\n",
      " [2 2 3 9 7]\n",
      " [4 5 8 1 3]\n",
      " [8 6 8 1 8]\n",
      " [3 1 6 7 9]\n",
      " [7 3 3 6 6]\n",
      " [6 5 5 8 7]\n",
      " [1 4 9 9 1]\n",
      " [7 7 7 1 5]\n",
      " [8 7 7 2 4]\n",
      " [5 8 6 5 2]\n",
      " [1 4 3 8 3]\n",
      " [6 3 9 4 5]\n",
      " [9 7 1 9 1]\n",
      " [3 1 6 2 8]\n",
      " [7 3 8 2 2]\n",
      " [4 8 2 3 4]\n",
      " [4 7 6 9 1]]\n"
     ]
    }
   ],
   "source": [
    "ravel[0] = 1\n",
    "print(ravel)\n",
    "print(my_matrix7)"
   ]
  }
 ],
 "metadata": {
  "kernelspec": {
   "display_name": "Python 3",
   "language": "python",
   "name": "python3"
  },
  "language_info": {
   "codemirror_mode": {
    "name": "ipython",
    "version": 3
   },
   "file_extension": ".py",
   "mimetype": "text/x-python",
   "name": "python",
   "nbconvert_exporter": "python",
   "pygments_lexer": "ipython3",
   "version": "3.8.3"
  }
 },
 "nbformat": 4,
 "nbformat_minor": 4
}
