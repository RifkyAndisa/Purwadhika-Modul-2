{
 "cells": [
  {
   "cell_type": "code",
   "execution_count": 1,
   "metadata": {},
   "outputs": [],
   "source": [
    "x = 2+3"
   ]
  },
  {
   "cell_type": "code",
   "execution_count": 2,
   "metadata": {},
   "outputs": [
    {
     "data": {
      "text/plain": [
       "5"
      ]
     },
     "execution_count": 2,
     "metadata": {},
     "output_type": "execute_result"
    }
   ],
   "source": [
    "x"
   ]
  },
  {
   "cell_type": "code",
   "execution_count": 3,
   "metadata": {},
   "outputs": [],
   "source": [
    "x = 4"
   ]
  },
  {
   "cell_type": "markdown",
   "metadata": {},
   "source": [
    "ini bukan code\n",
    "\n",
    "$\\displaystyle s = \\sqrt\\frac{\\sum(x_{i}-\\mu)^2}{n}$"
   ]
  },
  {
   "cell_type": "markdown",
   "metadata": {},
   "source": [
    "## __1. Intro Numpy__"
   ]
  },
  {
   "cell_type": "code",
   "execution_count": 4,
   "metadata": {},
   "outputs": [],
   "source": [
    "import numpy as np"
   ]
  },
  {
   "cell_type": "code",
   "execution_count": 5,
   "metadata": {},
   "outputs": [
    {
     "data": {
      "text/plain": [
       "[1, 2, 3]"
      ]
     },
     "execution_count": 5,
     "metadata": {},
     "output_type": "execute_result"
    }
   ],
   "source": [
    "my_list = [1,2,3]\n",
    "my_list"
   ]
  },
  {
   "cell_type": "code",
   "execution_count": 6,
   "metadata": {},
   "outputs": [
    {
     "name": "stdout",
     "output_type": "stream",
     "text": [
      "<class 'list'>\n"
     ]
    }
   ],
   "source": [
    "print(type(my_list))"
   ]
  },
  {
   "cell_type": "code",
   "execution_count": 7,
   "metadata": {},
   "outputs": [],
   "source": [
    "my_array = np.array(my_list)"
   ]
  },
  {
   "cell_type": "code",
   "execution_count": 8,
   "metadata": {},
   "outputs": [
    {
     "name": "stdout",
     "output_type": "stream",
     "text": [
      "[1, 2, 3]\n",
      "[1 2 3]\n"
     ]
    }
   ],
   "source": [
    "print(my_list)\n",
    "print(my_array)"
   ]
  },
  {
   "cell_type": "code",
   "execution_count": 9,
   "metadata": {},
   "outputs": [
    {
     "data": {
      "text/plain": [
       "array([1, 2, 3])"
      ]
     },
     "execution_count": 9,
     "metadata": {},
     "output_type": "execute_result"
    }
   ],
   "source": [
    "my_array"
   ]
  },
  {
   "cell_type": "code",
   "execution_count": 10,
   "metadata": {},
   "outputs": [
    {
     "name": "stdout",
     "output_type": "stream",
     "text": [
      "<class 'list'>\n",
      "<class 'numpy.ndarray'>\n"
     ]
    }
   ],
   "source": [
    "print(type(my_list))\n",
    "print(type(my_array))"
   ]
  },
  {
   "cell_type": "code",
   "execution_count": 11,
   "metadata": {},
   "outputs": [
    {
     "name": "stdout",
     "output_type": "stream",
     "text": [
      "['a', 'b', 'c', 4, 5]\n",
      "['a' 'b' 'c' '4' '5']\n"
     ]
    }
   ],
   "source": [
    "my_list2 = ['a', 'b', 'c', 4, 5]\n",
    "my_array2 = np.array(my_list2)\n",
    "\n",
    "print(my_list2)\n",
    "print(my_array2)"
   ]
  },
  {
   "cell_type": "code",
   "execution_count": 12,
   "metadata": {},
   "outputs": [
    {
     "name": "stdout",
     "output_type": "stream",
     "text": [
      "<class 'int'>\n",
      "<class 'numpy.str_'>\n"
     ]
    }
   ],
   "source": [
    "i = 3\n",
    "print(type(my_list2[i]))\n",
    "print(type(my_array2[i]))"
   ]
  },
  {
   "cell_type": "code",
   "execution_count": 13,
   "metadata": {},
   "outputs": [
    {
     "name": "stdout",
     "output_type": "stream",
     "text": [
      "[1.0, 2.5, 4.5, 5, 6, 7, 'a']\n",
      "['1.0' '2.5' '4.5' '5' '6' '7' 'a']\n"
     ]
    }
   ],
   "source": [
    "my_list3 = [1.0, 2.5, 4.5, 5, 6, 7, 'a']\n",
    "my_array3 = np.array(my_list3)\n",
    "\n",
    "print(my_list3)\n",
    "print(my_array3)"
   ]
  },
  {
   "cell_type": "code",
   "execution_count": 14,
   "metadata": {},
   "outputs": [
    {
     "name": "stdout",
     "output_type": "stream",
     "text": [
      "<class 'int'>\n",
      "<class 'numpy.str_'>\n"
     ]
    }
   ],
   "source": [
    "i = 3\n",
    "print(type(my_list3[i]))\n",
    "print(type(my_array3[i]))"
   ]
  },
  {
   "cell_type": "markdown",
   "metadata": {},
   "source": [
    "### __str < float < int__"
   ]
  },
  {
   "cell_type": "code",
   "execution_count": 15,
   "metadata": {},
   "outputs": [
    {
     "data": {
      "text/plain": [
       "[1, 2, 3]"
      ]
     },
     "execution_count": 15,
     "metadata": {},
     "output_type": "execute_result"
    }
   ],
   "source": [
    "my_list"
   ]
  },
  {
   "cell_type": "code",
   "execution_count": 16,
   "metadata": {},
   "outputs": [],
   "source": [
    "my_list4 = [2,3,4]"
   ]
  },
  {
   "cell_type": "markdown",
   "metadata": {},
   "source": [
    "## __Operasi Matematika (+) Menggunakan Array__"
   ]
  },
  {
   "cell_type": "code",
   "execution_count": 17,
   "metadata": {},
   "outputs": [
    {
     "data": {
      "text/plain": [
       "[1, 2, 3, 2, 3, 4]"
      ]
     },
     "execution_count": 17,
     "metadata": {},
     "output_type": "execute_result"
    }
   ],
   "source": [
    "my_list + my_list4"
   ]
  },
  {
   "cell_type": "code",
   "execution_count": 18,
   "metadata": {},
   "outputs": [
    {
     "data": {
      "text/plain": [
       "array([2, 3, 4])"
      ]
     },
     "execution_count": 18,
     "metadata": {},
     "output_type": "execute_result"
    }
   ],
   "source": [
    "my_array4 = np.array(my_list4)\n",
    "my_array4"
   ]
  },
  {
   "cell_type": "code",
   "execution_count": 19,
   "metadata": {},
   "outputs": [
    {
     "data": {
      "text/plain": [
       "array([3, 5, 7])"
      ]
     },
     "execution_count": 19,
     "metadata": {},
     "output_type": "execute_result"
    }
   ],
   "source": [
    "my_list + my_array4"
   ]
  },
  {
   "cell_type": "code",
   "execution_count": 20,
   "metadata": {},
   "outputs": [
    {
     "name": "stdout",
     "output_type": "stream",
     "text": [
      "[2 3 4]\n",
      "[3 4 5]\n"
     ]
    }
   ],
   "source": [
    "print(my_array4)\n",
    "print(my_array4 + 1)"
   ]
  },
  {
   "cell_type": "markdown",
   "metadata": {},
   "source": [
    "## __Operasi Matematika (x) Menggunakan Array__"
   ]
  },
  {
   "cell_type": "code",
   "execution_count": 21,
   "metadata": {},
   "outputs": [
    {
     "name": "stdout",
     "output_type": "stream",
     "text": [
      "[2 3 4] [1, 2, 3]\n",
      "[ 2  6 12]\n"
     ]
    }
   ],
   "source": [
    "print(my_array4, my_list)\n",
    "print(my_array4 * my_list)"
   ]
  },
  {
   "cell_type": "code",
   "execution_count": 22,
   "metadata": {},
   "outputs": [
    {
     "name": "stdout",
     "output_type": "stream",
     "text": [
      "[2 3 4] [1 2 3]\n",
      "[ 2  6 12]\n"
     ]
    }
   ],
   "source": [
    "print(my_array4, my_array)\n",
    "print(my_array4 * my_array)"
   ]
  },
  {
   "cell_type": "markdown",
   "metadata": {},
   "source": [
    "## __Array 2 Dimensi__"
   ]
  },
  {
   "cell_type": "code",
   "execution_count": 23,
   "metadata": {},
   "outputs": [
    {
     "name": "stdout",
     "output_type": "stream",
     "text": [
      "[[1, 2, 3], [4, 5, 6], [7, 8, 9]]\n"
     ]
    }
   ],
   "source": [
    "list_of_list = [[1,2,3], [4,5,6], [7,8,9]]\n",
    "print(list_of_list)"
   ]
  },
  {
   "cell_type": "code",
   "execution_count": 24,
   "metadata": {},
   "outputs": [
    {
     "name": "stdout",
     "output_type": "stream",
     "text": [
      "[[1 2 3]\n",
      " [4 5 6]\n",
      " [7 8 9]]\n"
     ]
    }
   ],
   "source": [
    "my_matrix = np.array(list_of_list)\n",
    "print(my_matrix)"
   ]
  },
  {
   "cell_type": "code",
   "execution_count": 25,
   "metadata": {},
   "outputs": [
    {
     "data": {
      "text/plain": [
       "array([[1, 2, 3],\n",
       "       [4, 5, 6],\n",
       "       [7, 8, 9]])"
      ]
     },
     "execution_count": 25,
     "metadata": {},
     "output_type": "execute_result"
    }
   ],
   "source": [
    "my_matrix"
   ]
  },
  {
   "cell_type": "markdown",
   "metadata": {},
   "source": [
    "## __Operasi Matematika Dengan Array 2 Dimensi__"
   ]
  },
  {
   "cell_type": "code",
   "execution_count": 26,
   "metadata": {},
   "outputs": [
    {
     "name": "stdout",
     "output_type": "stream",
     "text": [
      "[[1 2 3]\n",
      " [4 5 6]\n",
      " [7 8 9]]\n",
      "[[ 4  5  6]\n",
      " [ 7  8  9]\n",
      " [10 11 12]]\n"
     ]
    }
   ],
   "source": [
    "print(my_matrix)\n",
    "print(my_matrix + 3)"
   ]
  },
  {
   "cell_type": "code",
   "execution_count": 27,
   "metadata": {},
   "outputs": [
    {
     "name": "stdout",
     "output_type": "stream",
     "text": [
      "[[ 2  4  6]\n",
      " [ 8 10 12]\n",
      " [14 16 18]]\n"
     ]
    }
   ],
   "source": [
    "print(my_matrix + list_of_list)"
   ]
  },
  {
   "cell_type": "code",
   "execution_count": 28,
   "metadata": {},
   "outputs": [
    {
     "data": {
      "text/plain": [
       "[[1, 2, 3], [4, 5, 6], [7, 8, 9]]"
      ]
     },
     "execution_count": 28,
     "metadata": {},
     "output_type": "execute_result"
    }
   ],
   "source": [
    "list_of_list"
   ]
  },
  {
   "cell_type": "code",
   "execution_count": 29,
   "metadata": {},
   "outputs": [
    {
     "data": {
      "text/plain": [
       "9"
      ]
     },
     "execution_count": 29,
     "metadata": {},
     "output_type": "execute_result"
    }
   ],
   "source": [
    "list_of_list[2][2]"
   ]
  },
  {
   "cell_type": "code",
   "execution_count": 30,
   "metadata": {},
   "outputs": [
    {
     "name": "stdout",
     "output_type": "stream",
     "text": [
      "[[1 2 3]\n",
      " [4 5 6]\n",
      " [7 8 9]]\n"
     ]
    }
   ],
   "source": [
    "print(my_matrix)"
   ]
  },
  {
   "cell_type": "code",
   "execution_count": 31,
   "metadata": {},
   "outputs": [
    {
     "name": "stdout",
     "output_type": "stream",
     "text": [
      "6\n",
      "6\n"
     ]
    }
   ],
   "source": [
    "# indexing : mengambil value 6\n",
    "print(my_matrix[1,2])\n",
    "print(my_matrix[1][2])"
   ]
  },
  {
   "cell_type": "code",
   "execution_count": 32,
   "metadata": {},
   "outputs": [
    {
     "name": "stdout",
     "output_type": "stream",
     "text": [
      "[[10 11 12]\n",
      " [13 14 15]]\n"
     ]
    }
   ],
   "source": [
    "list_of_list2 = [[10,11,12], [13,14,15]]\n",
    "my_matrix2 = np.array(list_of_list2)\n",
    "print(my_matrix2)"
   ]
  },
  {
   "cell_type": "code",
   "execution_count": 33,
   "metadata": {},
   "outputs": [],
   "source": [
    "# my_matrix + my_matrix2"
   ]
  },
  {
   "cell_type": "code",
   "execution_count": 34,
   "metadata": {},
   "outputs": [
    {
     "data": {
      "text/plain": [
       "(2, 3)"
      ]
     },
     "execution_count": 34,
     "metadata": {},
     "output_type": "execute_result"
    }
   ],
   "source": [
    "my_matrix2.shape"
   ]
  },
  {
   "cell_type": "code",
   "execution_count": 35,
   "metadata": {},
   "outputs": [
    {
     "data": {
      "text/plain": [
       "(array([1, 2, 3]),\n",
       " array([[1, 2, 3],\n",
       "        [4, 5, 6],\n",
       "        [7, 8, 9]]))"
      ]
     },
     "execution_count": 35,
     "metadata": {},
     "output_type": "execute_result"
    }
   ],
   "source": [
    "my_array, my_matrix"
   ]
  },
  {
   "cell_type": "code",
   "execution_count": 36,
   "metadata": {},
   "outputs": [
    {
     "data": {
      "text/plain": [
       "array([[ 2,  4,  6],\n",
       "       [ 5,  7,  9],\n",
       "       [ 8, 10, 12]])"
      ]
     },
     "execution_count": 36,
     "metadata": {},
     "output_type": "execute_result"
    }
   ],
   "source": [
    "my_array + my_matrix"
   ]
  },
  {
   "cell_type": "code",
   "execution_count": 37,
   "metadata": {},
   "outputs": [
    {
     "data": {
      "text/plain": [
       "array([1, 2, 3])"
      ]
     },
     "execution_count": 37,
     "metadata": {},
     "output_type": "execute_result"
    }
   ],
   "source": [
    "my_array"
   ]
  },
  {
   "cell_type": "code",
   "execution_count": 38,
   "metadata": {},
   "outputs": [
    {
     "data": {
      "text/plain": [
       "array([1, 2, 3])"
      ]
     },
     "execution_count": 38,
     "metadata": {},
     "output_type": "execute_result"
    }
   ],
   "source": [
    "my_array"
   ]
  },
  {
   "cell_type": "code",
   "execution_count": 39,
   "metadata": {},
   "outputs": [
    {
     "data": {
      "text/plain": [
       "[[[1, 2, 3], [2, 3, 4], [3, 4, 5]], [[4, 5, 6], [5, 6, 7], [6, 7, 8]]]"
      ]
     },
     "execution_count": 39,
     "metadata": {},
     "output_type": "execute_result"
    }
   ],
   "source": [
    "list_of_list3 = [[[1,2,3],[2,3,4],[3,4,5]], [[4,5,6], [5,6,7], [6,7,8]]]\n",
    "list_of_list3"
   ]
  },
  {
   "cell_type": "code",
   "execution_count": 40,
   "metadata": {},
   "outputs": [
    {
     "name": "stdout",
     "output_type": "stream",
     "text": [
      "[[[1 2 3]\n",
      "  [2 3 4]\n",
      "  [3 4 5]]\n",
      "\n",
      " [[4 5 6]\n",
      "  [5 6 7]\n",
      "  [6 7 8]]]\n"
     ]
    }
   ],
   "source": [
    "my_matrix3 = np.array(list_of_list3)\n",
    "print(my_matrix3)"
   ]
  },
  {
   "cell_type": "code",
   "execution_count": 41,
   "metadata": {},
   "outputs": [
    {
     "data": {
      "text/plain": [
       "4"
      ]
     },
     "execution_count": 41,
     "metadata": {},
     "output_type": "execute_result"
    }
   ],
   "source": [
    "# my_matrix3[0][1][2]\n",
    "my_matrix3[0,1,2]"
   ]
  },
  {
   "cell_type": "code",
   "execution_count": 42,
   "metadata": {},
   "outputs": [
    {
     "data": {
      "text/plain": [
       "(2, 3, 3)"
      ]
     },
     "execution_count": 42,
     "metadata": {},
     "output_type": "execute_result"
    }
   ],
   "source": [
    "my_matrix3.shape"
   ]
  },
  {
   "cell_type": "code",
   "execution_count": 43,
   "metadata": {},
   "outputs": [
    {
     "data": {
      "text/plain": [
       "(3,)"
      ]
     },
     "execution_count": 43,
     "metadata": {},
     "output_type": "execute_result"
    }
   ],
   "source": [
    "my_array.shape"
   ]
  },
  {
   "cell_type": "code",
   "execution_count": 44,
   "metadata": {},
   "outputs": [
    {
     "data": {
      "text/plain": [
       "array([[1, 2, 3]])"
      ]
     },
     "execution_count": 44,
     "metadata": {},
     "output_type": "execute_result"
    }
   ],
   "source": [
    "my_matrix4 = np.array([[1,2,3]])\n",
    "my_matrix4"
   ]
  },
  {
   "cell_type": "code",
   "execution_count": 45,
   "metadata": {},
   "outputs": [
    {
     "data": {
      "text/plain": [
       "(1, 3)"
      ]
     },
     "execution_count": 45,
     "metadata": {},
     "output_type": "execute_result"
    }
   ],
   "source": [
    "my_matrix4.shape"
   ]
  },
  {
   "cell_type": "markdown",
   "metadata": {},
   "source": [
    "## __2. Built-in Method__"
   ]
  },
  {
   "cell_type": "markdown",
   "metadata": {},
   "source": [
    "### __2.1 np.arange()__"
   ]
  },
  {
   "cell_type": "code",
   "execution_count": 46,
   "metadata": {},
   "outputs": [
    {
     "data": {
      "text/plain": [
       "{0, 1, 2, 3, 4, 5, 6, 7, 8, 9}"
      ]
     },
     "execution_count": 46,
     "metadata": {},
     "output_type": "execute_result"
    }
   ],
   "source": [
    "#python\n",
    "ar1 = range(0,10)\n",
    "set(ar1)"
   ]
  },
  {
   "cell_type": "code",
   "execution_count": 47,
   "metadata": {},
   "outputs": [
    {
     "data": {
      "text/plain": [
       "array([0, 1, 2, 3, 4, 5, 6, 7, 8, 9])"
      ]
     },
     "execution_count": 47,
     "metadata": {},
     "output_type": "execute_result"
    }
   ],
   "source": [
    "#numpy\n",
    "nar1 = np.arange(0,10)\n",
    "nar1"
   ]
  },
  {
   "cell_type": "code",
   "execution_count": 48,
   "metadata": {},
   "outputs": [
    {
     "name": "stdout",
     "output_type": "stream",
     "text": [
      "<class 'numpy.ndarray'>\n"
     ]
    }
   ],
   "source": [
    "print(type(nar1))"
   ]
  },
  {
   "cell_type": "code",
   "execution_count": 49,
   "metadata": {},
   "outputs": [
    {
     "data": {
      "text/plain": [
       "[0, 2, 4, 6, 8]"
      ]
     },
     "execution_count": 49,
     "metadata": {},
     "output_type": "execute_result"
    }
   ],
   "source": [
    "#python\n",
    "ar2 = range(0,10,2)\n",
    "list(ar2)"
   ]
  },
  {
   "cell_type": "code",
   "execution_count": 50,
   "metadata": {},
   "outputs": [
    {
     "data": {
      "text/plain": [
       "array([0, 2, 4, 6, 8])"
      ]
     },
     "execution_count": 50,
     "metadata": {},
     "output_type": "execute_result"
    }
   ],
   "source": [
    "#numpy     (start, stop, step)\n",
    "nar2 = np.arange(0,10,2)\n",
    "nar2"
   ]
  },
  {
   "cell_type": "markdown",
   "metadata": {},
   "source": [
    "### __2.2 np.zeros() & np.ones()__"
   ]
  },
  {
   "cell_type": "code",
   "execution_count": 51,
   "metadata": {},
   "outputs": [
    {
     "data": {
      "text/plain": [
       "array([0., 0., 0., 0., 0., 0., 0.])"
      ]
     },
     "execution_count": 51,
     "metadata": {},
     "output_type": "execute_result"
    }
   ],
   "source": [
    "zer1 = np.zeros(7)\n",
    "zer1"
   ]
  },
  {
   "cell_type": "code",
   "execution_count": 52,
   "metadata": {},
   "outputs": [
    {
     "data": {
      "text/plain": [
       "array([[0., 0., 0., 0., 0.],\n",
       "       [0., 0., 0., 0., 0.],\n",
       "       [0., 0., 0., 0., 0.],\n",
       "       [0., 0., 0., 0., 0.]])"
      ]
     },
     "execution_count": 52,
     "metadata": {},
     "output_type": "execute_result"
    }
   ],
   "source": [
    "zer2 = np.zeros((4,5))\n",
    "zer2"
   ]
  },
  {
   "cell_type": "code",
   "execution_count": 53,
   "metadata": {},
   "outputs": [
    {
     "data": {
      "text/plain": [
       "(4, 5)"
      ]
     },
     "execution_count": 53,
     "metadata": {},
     "output_type": "execute_result"
    }
   ],
   "source": [
    "zer2.shape"
   ]
  },
  {
   "cell_type": "code",
   "execution_count": 54,
   "metadata": {},
   "outputs": [
    {
     "data": {
      "text/plain": [
       "4"
      ]
     },
     "execution_count": 54,
     "metadata": {},
     "output_type": "execute_result"
    }
   ],
   "source": [
    "len(zer2)"
   ]
  },
  {
   "cell_type": "code",
   "execution_count": 55,
   "metadata": {},
   "outputs": [
    {
     "data": {
      "text/plain": [
       "array([1., 1., 1., 1., 1., 1., 1.])"
      ]
     },
     "execution_count": 55,
     "metadata": {},
     "output_type": "execute_result"
    }
   ],
   "source": [
    "one1 = np.ones(7)\n",
    "one1"
   ]
  },
  {
   "cell_type": "code",
   "execution_count": 56,
   "metadata": {},
   "outputs": [
    {
     "data": {
      "text/plain": [
       "array([[1., 1.],\n",
       "       [1., 1.],\n",
       "       [1., 1.],\n",
       "       [1., 1.]])"
      ]
     },
     "execution_count": 56,
     "metadata": {},
     "output_type": "execute_result"
    }
   ],
   "source": [
    "one2 = np.ones((4,2))\n",
    "one2"
   ]
  },
  {
   "cell_type": "markdown",
   "metadata": {},
   "source": [
    "### __2.3 np.linspace(): membuat data dengan jarak antar data yang sama besarnya__"
   ]
  },
  {
   "cell_type": "code",
   "execution_count": 57,
   "metadata": {},
   "outputs": [
    {
     "data": {
      "text/plain": [
       "(101,)"
      ]
     },
     "execution_count": 57,
     "metadata": {},
     "output_type": "execute_result"
    }
   ],
   "source": [
    "lin1 = np.linspace(0,1000,101)\n",
    "lin1.shape"
   ]
  },
  {
   "cell_type": "code",
   "execution_count": 58,
   "metadata": {},
   "outputs": [
    {
     "data": {
      "text/plain": [
       "101"
      ]
     },
     "execution_count": 58,
     "metadata": {},
     "output_type": "execute_result"
    }
   ],
   "source": [
    "len(lin1)"
   ]
  },
  {
   "cell_type": "markdown",
   "metadata": {},
   "source": [
    "### __2.4 np.eye() & np.identity(): membuat data/matrix dengan angka 1 pada area diagonal dan angka 0 di area yang lain__"
   ]
  },
  {
   "cell_type": "code",
   "execution_count": 59,
   "metadata": {},
   "outputs": [
    {
     "data": {
      "text/plain": [
       "array([[1., 0., 0., 0., 0.],\n",
       "       [0., 1., 0., 0., 0.],\n",
       "       [0., 0., 1., 0., 0.],\n",
       "       [0., 0., 0., 1., 0.],\n",
       "       [0., 0., 0., 0., 1.]])"
      ]
     },
     "execution_count": 59,
     "metadata": {},
     "output_type": "execute_result"
    }
   ],
   "source": [
    "eye1 = np.eye(5,k=0)\n",
    "eye1"
   ]
  },
  {
   "cell_type": "code",
   "execution_count": 60,
   "metadata": {},
   "outputs": [
    {
     "data": {
      "text/plain": [
       "array([[1., 0.],\n",
       "       [0., 1.]])"
      ]
     },
     "execution_count": 60,
     "metadata": {},
     "output_type": "execute_result"
    }
   ],
   "source": [
    "eye2 = np.eye(2)\n",
    "eye2"
   ]
  },
  {
   "cell_type": "code",
   "execution_count": 61,
   "metadata": {},
   "outputs": [
    {
     "data": {
      "text/plain": [
       "array([[1., 0., 0., 0.],\n",
       "       [0., 1., 0., 0.],\n",
       "       [0., 0., 1., 0.],\n",
       "       [0., 0., 0., 1.]])"
      ]
     },
     "execution_count": 61,
     "metadata": {},
     "output_type": "execute_result"
    }
   ],
   "source": [
    "np.identity(4)"
   ]
  },
  {
   "cell_type": "markdown",
   "metadata": {},
   "source": [
    "### __2.5 np.random.rand(): membuat array dengan random value antara 0-1__"
   ]
  },
  {
   "cell_type": "code",
   "execution_count": 157,
   "metadata": {},
   "outputs": [
    {
     "data": {
      "text/plain": [
       "array([0.76170284, 0.51759996, 0.14199825, 0.68498959, 0.41403634,\n",
       "       0.87616029, 0.11662097, 0.27764468, 0.41781302, 0.78018246])"
      ]
     },
     "execution_count": 157,
     "metadata": {},
     "output_type": "execute_result"
    }
   ],
   "source": [
    "np.random.seed(1000) # pseudorandom generator\n",
    "# random_state = 25\n",
    "\n",
    "rand1 = np.random.rand(10)\n",
    "rand1"
   ]
  },
  {
   "cell_type": "code",
   "execution_count": 165,
   "metadata": {},
   "outputs": [
    {
     "data": {
      "text/plain": [
       "numpy.uint64"
      ]
     },
     "execution_count": 165,
     "metadata": {},
     "output_type": "execute_result"
    }
   ],
   "source": [
    "type(np.array([9223372036854775808])[0])"
   ]
  },
  {
   "cell_type": "code",
   "execution_count": 71,
   "metadata": {},
   "outputs": [
    {
     "data": {
      "text/plain": [
       "array([[0.87012414, 0.58227693, 0.27883894, 0.18591123, 0.41110013],\n",
       "       [0.11737555, 0.68496874, 0.43761106, 0.55622933, 0.36708032],\n",
       "       [0.40236573, 0.1130407 , 0.44703085, 0.58544512, 0.1619851 ],\n",
       "       [0.52071879, 0.32605113, 0.69918624, 0.36639455, 0.83637451],\n",
       "       [0.48134294, 0.5165023 , 0.38304813, 0.9975409 , 0.51424449]])"
      ]
     },
     "execution_count": 71,
     "metadata": {},
     "output_type": "execute_result"
    }
   ],
   "source": [
    "np.random.seed(25)\n",
    "\n",
    "rand2 = np.random.rand(5,5)\n",
    "rand2"
   ]
  },
  {
   "cell_type": "code",
   "execution_count": 74,
   "metadata": {},
   "outputs": [
    {
     "data": {
      "text/plain": [
       "array([-0.54703373, -0.68721296,  0.59582659, -0.58454248, -0.40414387,\n",
       "       -0.02999772, -0.63509455, -0.38540704, -1.48968252,  1.81242188,\n",
       "       -0.70870232, -0.48619647,  1.02729571, -0.21726222,  1.53501334,\n",
       "       -0.29662297,  1.41018007,  0.57334548,  1.76307093, -0.38452998,\n",
       "       -0.69125558,  0.56009601,  0.04445408, -1.94396222, -0.03787484,\n",
       "       -0.38929618,  1.98125369, -0.65002839,  0.39750003, -0.43899976,\n",
       "       -1.90931669, -0.23835026,  0.56987255, -1.80072841,  0.05813591,\n",
       "        0.61410926,  0.89342064,  0.87079764, -0.05940406,  0.21629372,\n",
       "        0.13396835,  0.67653236, -0.4392725 , -0.29030249,  0.74036241,\n",
       "       -0.76738582,  1.48635353,  0.31082932, -0.54441745,  0.14973437,\n",
       "        0.36172323,  0.58275743, -1.46873459,  0.22287969,  0.33679243,\n",
       "        1.93760118, -0.09518122, -1.11161866,  1.71323995, -1.02311245,\n",
       "        1.36548169, -0.20893539, -0.44661471,  1.08940116,  0.18895259,\n",
       "        0.68972803, -1.66087214, -0.78327262,  2.18698102, -1.84918455,\n",
       "        0.94593037,  0.43999015,  0.93629077,  0.13504445,  1.31082729,\n",
       "        0.18966409,  0.86561068,  3.06357893, -0.45672038,  1.22135537,\n",
       "       -0.20654535, -1.21888452, -0.85849178,  0.1606668 , -0.88762502,\n",
       "        0.44058532,  0.14062797, -1.19393298, -0.03155065,  0.26224144,\n",
       "       -0.60176267,  0.78850958, -0.47658837, -1.00532536,  1.09293294,\n",
       "        0.00513418,  0.81219307,  2.14475973,  0.83632461, -1.49659928])"
      ]
     },
     "execution_count": 74,
     "metadata": {},
     "output_type": "execute_result"
    }
   ],
   "source": [
    "# intermezo\n",
    "normal1 = np.random.normal(0, 1, 100)\n",
    "normal1"
   ]
  },
  {
   "cell_type": "markdown",
   "metadata": {},
   "source": [
    "### __2.6 np.random.randint(): membuat data atau array dengan value random dan datanya berupa integer__"
   ]
  },
  {
   "cell_type": "code",
   "execution_count": 77,
   "metadata": {},
   "outputs": [
    {
     "data": {
      "text/plain": [
       "2"
      ]
     },
     "execution_count": 77,
     "metadata": {},
     "output_type": "execute_result"
    }
   ],
   "source": [
    "randint1 = np.random.randint(1,15)\n",
    "randint1"
   ]
  },
  {
   "cell_type": "code",
   "execution_count": 78,
   "metadata": {},
   "outputs": [
    {
     "data": {
      "text/plain": [
       "array([ 6,  2,  3, 11,  3, 13,  4,  1,  5,  2])"
      ]
     },
     "execution_count": 78,
     "metadata": {},
     "output_type": "execute_result"
    }
   ],
   "source": [
    "randint2 = np.random.randint(1,15,10)\n",
    "randint2"
   ]
  },
  {
   "cell_type": "code",
   "execution_count": 79,
   "metadata": {},
   "outputs": [
    {
     "data": {
      "text/plain": [
       "array([[14,  5,  4,  1,  4],\n",
       "       [13,  4,  9, 12, 13],\n",
       "       [ 3,  3, 11,  7, 13],\n",
       "       [ 1, 14,  2, 12,  5],\n",
       "       [14, 13,  4, 12,  9]])"
      ]
     },
     "execution_count": 79,
     "metadata": {},
     "output_type": "execute_result"
    }
   ],
   "source": [
    "randint3 = np.random.randint(1,15,(5,5))\n",
    "randint3"
   ]
  },
  {
   "cell_type": "markdown",
   "metadata": {},
   "source": [
    "### __2.7 np.reshape()__"
   ]
  },
  {
   "cell_type": "code",
   "execution_count": 82,
   "metadata": {},
   "outputs": [
    {
     "data": {
      "text/plain": [
       "array([2, 9, 5, 6, 1, 5, 2, 6, 6, 4, 3, 2, 7, 1, 9, 4, 6, 4, 5, 2])"
      ]
     },
     "execution_count": 82,
     "metadata": {},
     "output_type": "execute_result"
    }
   ],
   "source": [
    "my_array5 = np.random.randint(1,10,20)\n",
    "my_array5"
   ]
  },
  {
   "cell_type": "code",
   "execution_count": 84,
   "metadata": {},
   "outputs": [
    {
     "data": {
      "text/plain": [
       "(20,)"
      ]
     },
     "execution_count": 84,
     "metadata": {},
     "output_type": "execute_result"
    }
   ],
   "source": [
    "my_array5.shape"
   ]
  },
  {
   "cell_type": "code",
   "execution_count": 90,
   "metadata": {},
   "outputs": [
    {
     "data": {
      "text/plain": [
       "array([[2, 9, 5, 6],\n",
       "       [1, 5, 2, 6],\n",
       "       [6, 4, 3, 2],\n",
       "       [7, 1, 9, 4],\n",
       "       [6, 4, 5, 2]])"
      ]
     },
     "execution_count": 90,
     "metadata": {},
     "output_type": "execute_result"
    }
   ],
   "source": [
    "# faktor dari 20 = 1,2,4,5,10,20\n",
    "my_matrix5 = my_array5.reshape(5,4) # 20\n",
    "my_matrix5"
   ]
  },
  {
   "cell_type": "code",
   "execution_count": 104,
   "metadata": {},
   "outputs": [
    {
     "data": {
      "text/plain": [
       "array([[[2, 9],\n",
       "        [5, 6],\n",
       "        [1, 5],\n",
       "        [2, 6],\n",
       "        [6, 4]],\n",
       "\n",
       "       [[3, 2],\n",
       "        [7, 1],\n",
       "        [9, 4],\n",
       "        [6, 4],\n",
       "        [5, 2]]])"
      ]
     },
     "execution_count": 104,
     "metadata": {},
     "output_type": "execute_result"
    }
   ],
   "source": [
    "# my_matrix6 = my_array5.reshape(2,5,2) sama dengan yang bawah\n",
    "my_matrix6 = my_array5.reshape(2,5,-1)\n",
    "my_matrix6"
   ]
  },
  {
   "cell_type": "code",
   "execution_count": 105,
   "metadata": {},
   "outputs": [
    {
     "data": {
      "text/plain": [
       "(2, 5, 2)"
      ]
     },
     "execution_count": 105,
     "metadata": {},
     "output_type": "execute_result"
    }
   ],
   "source": [
    "my_matrix6.shape"
   ]
  },
  {
   "cell_type": "code",
   "execution_count": 118,
   "metadata": {},
   "outputs": [
    {
     "data": {
      "text/plain": [
       "array([3, 1, 6, 9, 8, 9, 1, 9, 6, 8, 7, 8, 5, 7, 6, 2, 4, 8, 4, 7, 6, 2,\n",
       "       5, 4, 6, 7, 9, 8, 3, 4, 1, 8, 2, 2, 1, 5, 4, 1, 4, 6, 3, 8, 2, 6,\n",
       "       8, 1, 7, 6, 2, 9, 1, 2, 2, 4, 1, 3, 2, 7, 4, 7, 8, 8, 4, 5, 6, 5,\n",
       "       9, 2, 1, 2, 5, 9, 9, 2, 3, 4, 9, 9, 6, 1, 4, 3, 1, 8, 1, 2, 9, 9,\n",
       "       1, 3, 7, 7, 4, 8, 7, 5, 7, 7, 8, 2, 8, 9, 3, 6, 5, 4, 8, 3, 1, 6,\n",
       "       8, 2, 1, 9, 2, 8, 6, 5, 3, 7, 2, 2, 5, 8, 4])"
      ]
     },
     "execution_count": 118,
     "metadata": {},
     "output_type": "execute_result"
    }
   ],
   "source": [
    "my_array6 = np.random.randint(1,10,125)\n",
    "my_array6"
   ]
  },
  {
   "cell_type": "code",
   "execution_count": 119,
   "metadata": {},
   "outputs": [
    {
     "data": {
      "text/plain": [
       "array([[3, 1, 6, 9, 8],\n",
       "       [9, 1, 9, 6, 8],\n",
       "       [7, 8, 5, 7, 6],\n",
       "       [2, 4, 8, 4, 7],\n",
       "       [6, 2, 5, 4, 6],\n",
       "       [7, 9, 8, 3, 4],\n",
       "       [1, 8, 2, 2, 1],\n",
       "       [5, 4, 1, 4, 6],\n",
       "       [3, 8, 2, 6, 8],\n",
       "       [1, 7, 6, 2, 9],\n",
       "       [1, 2, 2, 4, 1],\n",
       "       [3, 2, 7, 4, 7],\n",
       "       [8, 8, 4, 5, 6],\n",
       "       [5, 9, 2, 1, 2],\n",
       "       [5, 9, 9, 2, 3],\n",
       "       [4, 9, 9, 6, 1],\n",
       "       [4, 3, 1, 8, 1],\n",
       "       [2, 9, 9, 1, 3],\n",
       "       [7, 7, 4, 8, 7],\n",
       "       [5, 7, 7, 8, 2],\n",
       "       [8, 9, 3, 6, 5],\n",
       "       [4, 8, 3, 1, 6],\n",
       "       [8, 2, 1, 9, 2],\n",
       "       [8, 6, 5, 3, 7],\n",
       "       [2, 2, 5, 8, 4]])"
      ]
     },
     "execution_count": 119,
     "metadata": {},
     "output_type": "execute_result"
    }
   ],
   "source": [
    "# -1 berarti menyerahkan kembali ke numpy berapa pasangan faktornya\n",
    "my_matrix7 = my_array6.reshape(-1,5)\n",
    "my_matrix7"
   ]
  },
  {
   "cell_type": "code",
   "execution_count": 102,
   "metadata": {},
   "outputs": [
    {
     "data": {
      "text/plain": [
       "(25, 5)"
      ]
     },
     "execution_count": 102,
     "metadata": {},
     "output_type": "execute_result"
    }
   ],
   "source": [
    "my_matrix7.shape"
   ]
  },
  {
   "cell_type": "code",
   "execution_count": 1,
   "metadata": {},
   "outputs": [],
   "source": [
    "# my_array6.reshape(-1,-1) #error"
   ]
  },
  {
   "cell_type": "code",
   "execution_count": 117,
   "metadata": {},
   "outputs": [
    {
     "data": {
      "text/plain": [
       "array([5, 9, 3, 9, 5, 2, 9, 3, 2, 3, 6, 6, 2, 1, 7, 2, 8, 3, 2, 4, 1, 1,\n",
       "       6, 8, 2, 3, 9, 9, 2, 1, 8, 5, 8, 3, 4, 8, 1, 8, 8, 6, 9, 5, 4, 4,\n",
       "       3, 8, 2, 7, 6, 5, 1, 1, 7, 6, 6, 8, 4, 1, 7, 4, 8, 5, 1, 9, 2, 4,\n",
       "       6, 3, 7, 5, 6, 6, 3, 8, 8, 9, 7, 2, 2, 5, 8, 2, 1, 5, 3, 9, 4, 5,\n",
       "       9, 6, 6, 9, 9, 1, 7, 4, 5, 1, 8, 6, 4, 1, 1, 7, 5, 2, 2, 5, 7, 1,\n",
       "       1, 7, 8, 9, 9, 7, 7, 8, 5, 1, 1, 3, 6, 3, 1])"
      ]
     },
     "execution_count": 117,
     "metadata": {},
     "output_type": "execute_result"
    }
   ],
   "source": [
    "my_array6[::-1]"
   ]
  },
  {
   "cell_type": "markdown",
   "metadata": {},
   "source": [
    "### __2.8 arr.max() & arr.argmax()__ "
   ]
  },
  {
   "cell_type": "code",
   "execution_count": 106,
   "metadata": {},
   "outputs": [
    {
     "data": {
      "text/plain": [
       "9"
      ]
     },
     "execution_count": 106,
     "metadata": {},
     "output_type": "execute_result"
    }
   ],
   "source": [
    "my_matrix7.max()"
   ]
  },
  {
   "cell_type": "code",
   "execution_count": 107,
   "metadata": {},
   "outputs": [
    {
     "data": {
      "text/plain": [
       "10"
      ]
     },
     "execution_count": 107,
     "metadata": {},
     "output_type": "execute_result"
    }
   ],
   "source": [
    "my_matrix7.argmax()"
   ]
  },
  {
   "cell_type": "code",
   "execution_count": 120,
   "metadata": {},
   "outputs": [],
   "source": [
    "flat = my_matrix7.flatten() # copy\n",
    "ravel = my_matrix7.ravel() # view"
   ]
  },
  {
   "cell_type": "code",
   "execution_count": 125,
   "metadata": {},
   "outputs": [
    {
     "data": {
      "text/plain": [
       "([2, 2, 3, 4], [1, 8, 3, 4])"
      ]
     },
     "execution_count": 125,
     "metadata": {},
     "output_type": "execute_result"
    }
   ],
   "source": [
    "a = [1,2,3,4]\n",
    "b = a # => ravel\n",
    "c = a.copy() # => flatten\n",
    "\n",
    "b[0]=2\n",
    "a, b\n",
    "\n",
    "c[1] = 8\n",
    "a, c"
   ]
  },
  {
   "cell_type": "code",
   "execution_count": 121,
   "metadata": {},
   "outputs": [
    {
     "data": {
      "text/plain": [
       "array([3, 1, 6, 9, 8, 9, 1, 9, 6, 8, 7, 8, 5, 7, 6, 2, 4, 8, 4, 7, 6, 2,\n",
       "       5, 4, 6, 7, 9, 8, 3, 4, 1, 8, 2, 2, 1, 5, 4, 1, 4, 6, 3, 8, 2, 6,\n",
       "       8, 1, 7, 6, 2, 9, 1, 2, 2, 4, 1, 3, 2, 7, 4, 7, 8, 8, 4, 5, 6, 5,\n",
       "       9, 2, 1, 2, 5, 9, 9, 2, 3, 4, 9, 9, 6, 1, 4, 3, 1, 8, 1, 2, 9, 9,\n",
       "       1, 3, 7, 7, 4, 8, 7, 5, 7, 7, 8, 2, 8, 9, 3, 6, 5, 4, 8, 3, 1, 6,\n",
       "       8, 2, 1, 9, 2, 8, 6, 5, 3, 7, 2, 2, 5, 8, 4])"
      ]
     },
     "execution_count": 121,
     "metadata": {},
     "output_type": "execute_result"
    }
   ],
   "source": [
    "flat"
   ]
  },
  {
   "cell_type": "code",
   "execution_count": 122,
   "metadata": {},
   "outputs": [
    {
     "data": {
      "text/plain": [
       "array([3, 1, 6, 9, 8, 9, 1, 9, 6, 8, 7, 8, 5, 7, 6, 2, 4, 8, 4, 7, 6, 2,\n",
       "       5, 4, 6, 7, 9, 8, 3, 4, 1, 8, 2, 2, 1, 5, 4, 1, 4, 6, 3, 8, 2, 6,\n",
       "       8, 1, 7, 6, 2, 9, 1, 2, 2, 4, 1, 3, 2, 7, 4, 7, 8, 8, 4, 5, 6, 5,\n",
       "       9, 2, 1, 2, 5, 9, 9, 2, 3, 4, 9, 9, 6, 1, 4, 3, 1, 8, 1, 2, 9, 9,\n",
       "       1, 3, 7, 7, 4, 8, 7, 5, 7, 7, 8, 2, 8, 9, 3, 6, 5, 4, 8, 3, 1, 6,\n",
       "       8, 2, 1, 9, 2, 8, 6, 5, 3, 7, 2, 2, 5, 8, 4])"
      ]
     },
     "execution_count": 122,
     "metadata": {},
     "output_type": "execute_result"
    }
   ],
   "source": [
    "ravel"
   ]
  },
  {
   "cell_type": "code",
   "execution_count": 126,
   "metadata": {},
   "outputs": [
    {
     "name": "stdout",
     "output_type": "stream",
     "text": [
      "[1 1 6 9 8 9 1 9 6 8 7 8 5 7 6 2 4 8 4 7 6 2 5 4 6 7 9 8 3 4 1 8 2 2 1 5 4\n",
      " 1 4 6 3 8 2 6 8 1 7 6 2 9 1 2 2 4 1 3 2 7 4 7 8 8 4 5 6 5 9 2 1 2 5 9 9 2\n",
      " 3 4 9 9 6 1 4 3 1 8 1 2 9 9 1 3 7 7 4 8 7 5 7 7 8 2 8 9 3 6 5 4 8 3 1 6 8\n",
      " 2 1 9 2 8 6 5 3 7 2 2 5 8 4]\n",
      "[[3 1 6 9 8]\n",
      " [9 1 9 6 8]\n",
      " [7 8 5 7 6]\n",
      " [2 4 8 4 7]\n",
      " [6 2 5 4 6]\n",
      " [7 9 8 3 4]\n",
      " [1 8 2 2 1]\n",
      " [5 4 1 4 6]\n",
      " [3 8 2 6 8]\n",
      " [1 7 6 2 9]\n",
      " [1 2 2 4 1]\n",
      " [3 2 7 4 7]\n",
      " [8 8 4 5 6]\n",
      " [5 9 2 1 2]\n",
      " [5 9 9 2 3]\n",
      " [4 9 9 6 1]\n",
      " [4 3 1 8 1]\n",
      " [2 9 9 1 3]\n",
      " [7 7 4 8 7]\n",
      " [5 7 7 8 2]\n",
      " [8 9 3 6 5]\n",
      " [4 8 3 1 6]\n",
      " [8 2 1 9 2]\n",
      " [8 6 5 3 7]\n",
      " [2 2 5 8 4]]\n"
     ]
    }
   ],
   "source": [
    "flat[0] = 1\n",
    "print(flat)\n",
    "print(my_matrix7)"
   ]
  },
  {
   "cell_type": "code",
   "execution_count": 127,
   "metadata": {},
   "outputs": [
    {
     "name": "stdout",
     "output_type": "stream",
     "text": [
      "[1 1 6 9 8 9 1 9 6 8 7 8 5 7 6 2 4 8 4 7 6 2 5 4 6 7 9 8 3 4 1 8 2 2 1 5 4\n",
      " 1 4 6 3 8 2 6 8 1 7 6 2 9 1 2 2 4 1 3 2 7 4 7 8 8 4 5 6 5 9 2 1 2 5 9 9 2\n",
      " 3 4 9 9 6 1 4 3 1 8 1 2 9 9 1 3 7 7 4 8 7 5 7 7 8 2 8 9 3 6 5 4 8 3 1 6 8\n",
      " 2 1 9 2 8 6 5 3 7 2 2 5 8 4]\n",
      "[[1 1 6 9 8]\n",
      " [9 1 9 6 8]\n",
      " [7 8 5 7 6]\n",
      " [2 4 8 4 7]\n",
      " [6 2 5 4 6]\n",
      " [7 9 8 3 4]\n",
      " [1 8 2 2 1]\n",
      " [5 4 1 4 6]\n",
      " [3 8 2 6 8]\n",
      " [1 7 6 2 9]\n",
      " [1 2 2 4 1]\n",
      " [3 2 7 4 7]\n",
      " [8 8 4 5 6]\n",
      " [5 9 2 1 2]\n",
      " [5 9 9 2 3]\n",
      " [4 9 9 6 1]\n",
      " [4 3 1 8 1]\n",
      " [2 9 9 1 3]\n",
      " [7 7 4 8 7]\n",
      " [5 7 7 8 2]\n",
      " [8 9 3 6 5]\n",
      " [4 8 3 1 6]\n",
      " [8 2 1 9 2]\n",
      " [8 6 5 3 7]\n",
      " [2 2 5 8 4]]\n"
     ]
    }
   ],
   "source": [
    "ravel[0] = 1\n",
    "print(ravel)\n",
    "print(my_matrix7)"
   ]
  },
  {
   "cell_type": "markdown",
   "metadata": {},
   "source": [
    "### __2.9 arr.min() & arr.argmin()__"
   ]
  },
  {
   "cell_type": "code",
   "execution_count": 166,
   "metadata": {},
   "outputs": [
    {
     "data": {
      "text/plain": [
       "1"
      ]
     },
     "execution_count": 166,
     "metadata": {},
     "output_type": "execute_result"
    }
   ],
   "source": [
    "my_matrix7.min()"
   ]
  },
  {
   "cell_type": "code",
   "execution_count": 167,
   "metadata": {},
   "outputs": [
    {
     "data": {
      "text/plain": [
       "0"
      ]
     },
     "execution_count": 167,
     "metadata": {},
     "output_type": "execute_result"
    }
   ],
   "source": [
    "# index nilai terkecil yang pertama kali ditemui ada di-0\n",
    "my_matrix7.argmin()"
   ]
  },
  {
   "cell_type": "markdown",
   "metadata": {},
   "source": [
    "### __2.10 arr.dtype()__"
   ]
  },
  {
   "cell_type": "code",
   "execution_count": 168,
   "metadata": {},
   "outputs": [
    {
     "data": {
      "text/plain": [
       "dtype('int32')"
      ]
     },
     "execution_count": 168,
     "metadata": {},
     "output_type": "execute_result"
    }
   ],
   "source": [
    "my_matrix7.dtype"
   ]
  },
  {
   "cell_type": "markdown",
   "metadata": {},
   "source": [
    "## __3. Indexing & Slicing__"
   ]
  },
  {
   "cell_type": "code",
   "execution_count": 169,
   "metadata": {},
   "outputs": [
    {
     "data": {
      "text/plain": [
       "array([11, 12, 13, 14, 15, 16, 17, 18, 19, 20, 21, 22, 23, 24, 25, 26, 27,\n",
       "       28, 29, 30])"
      ]
     },
     "execution_count": 169,
     "metadata": {},
     "output_type": "execute_result"
    }
   ],
   "source": [
    "# kita bikin array baru\n",
    "my_array8 = np.arange(11, 31)\n",
    "my_array8"
   ]
  },
  {
   "cell_type": "code",
   "execution_count": 171,
   "metadata": {},
   "outputs": [
    {
     "data": {
      "text/plain": [
       "20"
      ]
     },
     "execution_count": 171,
     "metadata": {},
     "output_type": "execute_result"
    }
   ],
   "source": [
    "len(my_array8)"
   ]
  },
  {
   "cell_type": "code",
   "execution_count": 172,
   "metadata": {},
   "outputs": [
    {
     "data": {
      "text/plain": [
       "14"
      ]
     },
     "execution_count": 172,
     "metadata": {},
     "output_type": "execute_result"
    }
   ],
   "source": [
    "# indexing pada umumnya seperti pada list\n",
    "my_array8[3]"
   ]
  },
  {
   "cell_type": "code",
   "execution_count": 173,
   "metadata": {},
   "outputs": [
    {
     "data": {
      "text/plain": [
       "array([11, 12, 13, 14])"
      ]
     },
     "execution_count": 173,
     "metadata": {},
     "output_type": "execute_result"
    }
   ],
   "source": [
    "my_array8[0:4]\n",
    "# index yang di return 0, 1, 2, 3 => sama seperti di list, angka terakhir tidak ikut kena slice."
   ]
  },
  {
   "cell_type": "code",
   "execution_count": 175,
   "metadata": {},
   "outputs": [
    {
     "data": {
      "text/plain": [
       "array([11, 13, 15, 17, 19])"
      ]
     },
     "execution_count": 175,
     "metadata": {},
     "output_type": "execute_result"
    }
   ],
   "source": [
    "my_array8[0:9:2]\n",
    "# syntax di atas urutannya start:stop:step. Sama dengan slicing pada list."
   ]
  },
  {
   "cell_type": "code",
   "execution_count": 183,
   "metadata": {},
   "outputs": [
    {
     "data": {
      "text/plain": [
       "array([[1, 1, 6, 9, 8],\n",
       "       [9, 1, 9, 6, 8],\n",
       "       [7, 8, 5, 7, 6],\n",
       "       [2, 4, 8, 4, 7],\n",
       "       [6, 2, 5, 4, 6],\n",
       "       [7, 9, 8, 3, 4],\n",
       "       [1, 8, 2, 2, 1],\n",
       "       [5, 4, 1, 4, 6],\n",
       "       [3, 8, 2, 6, 8],\n",
       "       [1, 7, 6, 2, 9]])"
      ]
     },
     "execution_count": 183,
     "metadata": {},
     "output_type": "execute_result"
    }
   ],
   "source": [
    "my_matrix8 = my_matrix7[:10].copy()\n",
    "my_matrix8"
   ]
  },
  {
   "cell_type": "code",
   "execution_count": 179,
   "metadata": {},
   "outputs": [
    {
     "data": {
      "text/plain": [
       "5"
      ]
     },
     "execution_count": 179,
     "metadata": {},
     "output_type": "execute_result"
    }
   ],
   "source": [
    "my_matrix8[4][2]"
   ]
  },
  {
   "cell_type": "code",
   "execution_count": 180,
   "metadata": {},
   "outputs": [
    {
     "data": {
      "text/plain": [
       "5"
      ]
     },
     "execution_count": 180,
     "metadata": {},
     "output_type": "execute_result"
    }
   ],
   "source": [
    "my_matrix8[4,2]"
   ]
  },
  {
   "cell_type": "markdown",
   "metadata": {},
   "source": [
    "## __4. Broadcasting__"
   ]
  },
  {
   "cell_type": "code",
   "execution_count": 181,
   "metadata": {},
   "outputs": [
    {
     "data": {
      "text/plain": [
       "array([[1, 1, 6, 9, 8],\n",
       "       [9, 1, 9, 6, 8],\n",
       "       [7, 8, 5, 7, 6],\n",
       "       [2, 4, 8, 4, 7],\n",
       "       [6, 2, 5, 4, 6],\n",
       "       [7, 9, 8, 3, 4],\n",
       "       [1, 8, 2, 2, 1],\n",
       "       [5, 4, 1, 4, 6],\n",
       "       [3, 8, 2, 6, 8],\n",
       "       [1, 7, 6, 2, 9]])"
      ]
     },
     "execution_count": 181,
     "metadata": {},
     "output_type": "execute_result"
    }
   ],
   "source": [
    "my_matrix8"
   ]
  },
  {
   "cell_type": "code",
   "execution_count": 184,
   "metadata": {},
   "outputs": [
    {
     "data": {
      "text/plain": [
       "array([[0, 0, 0, 0, 8],\n",
       "       [9, 1, 9, 6, 8],\n",
       "       [7, 8, 5, 7, 6],\n",
       "       [2, 4, 8, 4, 7],\n",
       "       [6, 2, 5, 4, 6],\n",
       "       [7, 9, 8, 3, 4],\n",
       "       [1, 8, 2, 2, 1],\n",
       "       [5, 4, 1, 4, 6],\n",
       "       [3, 8, 2, 6, 8],\n",
       "       [1, 7, 6, 2, 9]])"
      ]
     },
     "execution_count": 184,
     "metadata": {},
     "output_type": "execute_result"
    }
   ],
   "source": [
    "#my_matrix8[row, kolom]\n",
    "my_matrix8[0, 0:4] = 0\n",
    "my_matrix8"
   ]
  },
  {
   "cell_type": "code",
   "execution_count": 185,
   "metadata": {},
   "outputs": [
    {
     "data": {
      "text/plain": [
       "array([[2, 0, 0, 0, 8],\n",
       "       [2, 1, 9, 6, 8],\n",
       "       [2, 8, 5, 7, 6],\n",
       "       [2, 4, 8, 4, 7],\n",
       "       [2, 2, 5, 4, 6],\n",
       "       [2, 9, 8, 3, 4],\n",
       "       [2, 8, 2, 2, 1],\n",
       "       [2, 4, 1, 4, 6],\n",
       "       [2, 8, 2, 6, 8],\n",
       "       [2, 7, 6, 2, 9]])"
      ]
     },
     "execution_count": 185,
     "metadata": {},
     "output_type": "execute_result"
    }
   ],
   "source": [
    "my_matrix8[0:, 0] = 2\n",
    "my_matrix8"
   ]
  },
  {
   "cell_type": "code",
   "execution_count": 187,
   "metadata": {},
   "outputs": [
    {
     "data": {
      "text/plain": [
       "array([[2, 0, 0, 0, 8],\n",
       "       [4, 1, 9, 6, 8],\n",
       "       [1, 8, 5, 7, 6],\n",
       "       [3, 4, 8, 4, 7],\n",
       "       [5, 2, 5, 4, 6],\n",
       "       [6, 9, 8, 3, 4],\n",
       "       [7, 8, 2, 2, 1],\n",
       "       [8, 4, 1, 4, 6],\n",
       "       [9, 8, 2, 6, 8],\n",
       "       [1, 7, 6, 2, 9]])"
      ]
     },
     "execution_count": 187,
     "metadata": {},
     "output_type": "execute_result"
    }
   ],
   "source": [
    "my_matrix8[0:, 0] = [2,4,1,3,5,6,7,8,9,1]\n",
    "my_matrix8"
   ]
  },
  {
   "cell_type": "code",
   "execution_count": 188,
   "metadata": {},
   "outputs": [
    {
     "data": {
      "text/plain": [
       "array([[0, 0, 0, 0, 8],\n",
       "       [4, 0, 9, 6, 8],\n",
       "       [1, 8, 0, 7, 6],\n",
       "       [3, 4, 8, 0, 7],\n",
       "       [5, 2, 5, 4, 0],\n",
       "       [6, 9, 8, 3, 4],\n",
       "       [7, 8, 2, 2, 1],\n",
       "       [8, 4, 1, 4, 6],\n",
       "       [9, 8, 2, 6, 8],\n",
       "       [1, 7, 6, 2, 9]])"
      ]
     },
     "execution_count": 188,
     "metadata": {},
     "output_type": "execute_result"
    }
   ],
   "source": [
    "for i in range(5):\n",
    "    my_matrix8[i, i] = 0\n",
    "my_matrix8"
   ]
  },
  {
   "cell_type": "markdown",
   "metadata": {},
   "source": [
    "### __4.1 np.where()__"
   ]
  },
  {
   "cell_type": "code",
   "execution_count": 189,
   "metadata": {},
   "outputs": [
    {
     "data": {
      "text/plain": [
       "(array([0, 0, 0, 0, 1, 1, 2, 2, 3, 3, 3, 4, 4, 4, 5, 5, 6, 6, 6, 7, 7, 7,\n",
       "        8, 9, 9], dtype=int64),\n",
       " array([0, 1, 2, 3, 0, 1, 0, 2, 0, 1, 3, 1, 3, 4, 3, 4, 2, 3, 4, 1, 2, 3,\n",
       "        2, 0, 3], dtype=int64))"
      ]
     },
     "execution_count": 189,
     "metadata": {},
     "output_type": "execute_result"
    }
   ],
   "source": [
    "np.where(my_matrix8<5)"
   ]
  },
  {
   "cell_type": "code",
   "execution_count": 254,
   "metadata": {},
   "outputs": [
    {
     "data": {
      "text/plain": [
       "array([[9, 1, 9, 6, 8],\n",
       "       [7, 8, 5, 7, 6]])"
      ]
     },
     "execution_count": 254,
     "metadata": {},
     "output_type": "execute_result"
    }
   ],
   "source": [
    "my_matrix7[1:3]"
   ]
  },
  {
   "cell_type": "code",
   "execution_count": 243,
   "metadata": {},
   "outputs": [
    {
     "data": {
      "text/plain": [
       "array([[0, 0, 0, 0, 8],\n",
       "       [4, 0, 9, 6, 8],\n",
       "       [1, 8, 0, 7, 6],\n",
       "       [3, 4, 8, 0, 7],\n",
       "       [5, 2, 5, 4, 0],\n",
       "       [6, 9, 8, 3, 4],\n",
       "       [7, 8, 2, 2, 1],\n",
       "       [8, 4, 1, 4, 6],\n",
       "       [9, 8, 2, 6, 8],\n",
       "       [1, 7, 6, 2, 9]])"
      ]
     },
     "execution_count": 243,
     "metadata": {},
     "output_type": "execute_result"
    }
   ],
   "source": [
    "my_matrix8"
   ]
  },
  {
   "cell_type": "code",
   "execution_count": 257,
   "metadata": {},
   "outputs": [
    {
     "data": {
      "text/plain": [
       "array([[9, 9, 9, 9, 8],\n",
       "       [9, 9, 9, 6, 8],\n",
       "       [9, 8, 9, 7, 6],\n",
       "       [9, 9, 8, 9, 7],\n",
       "       [5, 9, 5, 9, 9],\n",
       "       [6, 9, 8, 9, 9],\n",
       "       [7, 8, 9, 9, 9],\n",
       "       [8, 9, 9, 9, 6],\n",
       "       [9, 8, 9, 6, 8],\n",
       "       [9, 7, 6, 9, 9]])"
      ]
     },
     "execution_count": 257,
     "metadata": {},
     "output_type": "execute_result"
    }
   ],
   "source": [
    "np.where(my_matrix8<5, 9, my_matrix8)"
   ]
  },
  {
   "cell_type": "code",
   "execution_count": 191,
   "metadata": {},
   "outputs": [
    {
     "data": {
      "text/plain": [
       "(array([0, 1, 2, 3, 4, 5, 6, 7, 8], dtype=int64),)"
      ]
     },
     "execution_count": 191,
     "metadata": {},
     "output_type": "execute_result"
    }
   ],
   "source": [
    "np.where(my_array8<20)"
   ]
  },
  {
   "cell_type": "code",
   "execution_count": 199,
   "metadata": {},
   "outputs": [
    {
     "data": {
      "text/plain": [
       "array([ 0,  0,  0,  0,  0,  0,  0,  0,  0, 20, 21, 22, 23, 24, 25, 26, 27,\n",
       "       28, 29, 30])"
      ]
     },
     "execution_count": 199,
     "metadata": {},
     "output_type": "execute_result"
    }
   ],
   "source": [
    "# np.where(kondisinya apa, value ketika kondisi terpenuhi, value ketika kondisi tidak terpenuhi)\n",
    "my_array9 = np.where(my_array8<20, 0, my_array8)\n",
    "my_array9"
   ]
  },
  {
   "cell_type": "code",
   "execution_count": 195,
   "metadata": {},
   "outputs": [
    {
     "data": {
      "text/plain": [
       "array([11, 12, 13, 14, 15, 16, 17, 18, 19, 20, 21, 22, 23, 24, 25, 26, 27,\n",
       "       28, 29, 30])"
      ]
     },
     "execution_count": 195,
     "metadata": {},
     "output_type": "execute_result"
    }
   ],
   "source": [
    "my_array8"
   ]
  },
  {
   "cell_type": "markdown",
   "metadata": {},
   "source": [
    "## __5. arr.copy()__"
   ]
  },
  {
   "cell_type": "code",
   "execution_count": 204,
   "metadata": {},
   "outputs": [
    {
     "data": {
      "text/plain": [
       "array([11, 12, 13, 14, 15, 16, 17, 18, 19, 20, 21, 22, 23, 24, 25, 26, 27,\n",
       "       28, 29, 30])"
      ]
     },
     "execution_count": 204,
     "metadata": {},
     "output_type": "execute_result"
    }
   ],
   "source": [
    "my_array9 = my_array8.copy()\n",
    "my_array9"
   ]
  },
  {
   "cell_type": "code",
   "execution_count": 205,
   "metadata": {},
   "outputs": [
    {
     "data": {
      "text/plain": [
       "array([11, 12, 13, 14, 15, 16, 17, 18, 19, 20, 21, 22, 23, 24, 25, 26, 27,\n",
       "       28, 29, 30])"
      ]
     },
     "execution_count": 205,
     "metadata": {},
     "output_type": "execute_result"
    }
   ],
   "source": [
    "my_array8"
   ]
  },
  {
   "cell_type": "code",
   "execution_count": 206,
   "metadata": {},
   "outputs": [
    {
     "name": "stdout",
     "output_type": "stream",
     "text": [
      "[100  12  13  14  15  16  17  18  19  20  21  22  23  24  25  26  27  28\n",
      "  29  30]\n",
      "[11 12 13 14 15 16 17 18 19 20 21 22 23 24 25 26 27 28 29 30]\n"
     ]
    }
   ],
   "source": [
    "my_array9[0] = 100\n",
    "print(my_array9)\n",
    "print(my_array8)"
   ]
  },
  {
   "cell_type": "markdown",
   "metadata": {},
   "source": [
    "## __6. Slicing 2D Array__"
   ]
  },
  {
   "cell_type": "code",
   "execution_count": 207,
   "metadata": {},
   "outputs": [
    {
     "data": {
      "text/plain": [
       "array([[0, 0, 0, 0, 8],\n",
       "       [4, 0, 9, 6, 8],\n",
       "       [1, 8, 0, 7, 6],\n",
       "       [3, 4, 8, 0, 7],\n",
       "       [5, 2, 5, 4, 0],\n",
       "       [6, 9, 8, 3, 4],\n",
       "       [7, 8, 2, 2, 1],\n",
       "       [8, 4, 1, 4, 6],\n",
       "       [9, 8, 2, 6, 8],\n",
       "       [1, 7, 6, 2, 9]])"
      ]
     },
     "execution_count": 207,
     "metadata": {},
     "output_type": "execute_result"
    }
   ],
   "source": [
    "my_matrix8"
   ]
  },
  {
   "cell_type": "code",
   "execution_count": 208,
   "metadata": {},
   "outputs": [
    {
     "data": {
      "text/plain": [
       "array([[0, 0, 8],\n",
       "       [9, 6, 8],\n",
       "       [0, 7, 6]])"
      ]
     },
     "execution_count": 208,
     "metadata": {},
     "output_type": "execute_result"
    }
   ],
   "source": [
    "my_matrix8[0:3,2:]"
   ]
  },
  {
   "cell_type": "code",
   "execution_count": 215,
   "metadata": {},
   "outputs": [
    {
     "data": {
      "text/plain": [
       "array([[8, 4],\n",
       "       [9, 8],\n",
       "       [1, 7]])"
      ]
     },
     "execution_count": 215,
     "metadata": {},
     "output_type": "execute_result"
    }
   ],
   "source": [
    "my_matrix8[-3::1, 0:2]"
   ]
  },
  {
   "cell_type": "code",
   "execution_count": null,
   "metadata": {},
   "outputs": [],
   "source": [
    "'''\n",
    "[[6],\n",
    "[7],\n",
    "[8],\n",
    "[9],\n",
    "[1]]\n",
    "\n",
    "[[8,2,2],\n",
    "[4,1,4]]\n",
    "\n",
    "[[6],\n",
    "[7],\n",
    "[0],\n",
    "[4]]\n",
    "'''"
   ]
  },
  {
   "cell_type": "code",
   "execution_count": 218,
   "metadata": {},
   "outputs": [
    {
     "data": {
      "text/plain": [
       "array([[6],\n",
       "       [7],\n",
       "       [8],\n",
       "       [9],\n",
       "       [1]])"
      ]
     },
     "execution_count": 218,
     "metadata": {},
     "output_type": "execute_result"
    }
   ],
   "source": [
    "coba_slice = my_matrix8[-5::1,0].reshape(-1,1)\n",
    "coba_slice"
   ]
  },
  {
   "cell_type": "code",
   "execution_count": 221,
   "metadata": {},
   "outputs": [
    {
     "data": {
      "text/plain": [
       "array([[8, 2, 2],\n",
       "       [4, 1, 4]])"
      ]
     },
     "execution_count": 221,
     "metadata": {},
     "output_type": "execute_result"
    }
   ],
   "source": [
    "my_matrix8[6:8,1:4]"
   ]
  },
  {
   "cell_type": "code",
   "execution_count": 223,
   "metadata": {},
   "outputs": [
    {
     "data": {
      "text/plain": [
       "array([[6],\n",
       "       [7],\n",
       "       [0],\n",
       "       [4]])"
      ]
     },
     "execution_count": 223,
     "metadata": {},
     "output_type": "execute_result"
    }
   ],
   "source": [
    "coba_slice3 = my_matrix8[2:6,-1].reshape(-1,1)\n",
    "coba_slice3\n"
   ]
  },
  {
   "cell_type": "markdown",
   "metadata": {},
   "source": [
    "## __7. Length Of Array__"
   ]
  },
  {
   "cell_type": "code",
   "execution_count": 224,
   "metadata": {},
   "outputs": [
    {
     "data": {
      "text/plain": [
       "array([[0, 0, 0, 0, 8],\n",
       "       [4, 0, 9, 6, 8],\n",
       "       [1, 8, 0, 7, 6],\n",
       "       [3, 4, 8, 0, 7],\n",
       "       [5, 2, 5, 4, 0],\n",
       "       [6, 9, 8, 3, 4],\n",
       "       [7, 8, 2, 2, 1],\n",
       "       [8, 4, 1, 4, 6],\n",
       "       [9, 8, 2, 6, 8],\n",
       "       [1, 7, 6, 2, 9]])"
      ]
     },
     "execution_count": 224,
     "metadata": {},
     "output_type": "execute_result"
    }
   ],
   "source": [
    "my_matrix8"
   ]
  },
  {
   "cell_type": "code",
   "execution_count": 225,
   "metadata": {},
   "outputs": [
    {
     "data": {
      "text/plain": [
       "10"
      ]
     },
     "execution_count": 225,
     "metadata": {},
     "output_type": "execute_result"
    }
   ],
   "source": [
    "len(my_matrix8)"
   ]
  },
  {
   "cell_type": "code",
   "execution_count": 226,
   "metadata": {},
   "outputs": [
    {
     "data": {
      "text/plain": [
       "(10, 5)"
      ]
     },
     "execution_count": 226,
     "metadata": {},
     "output_type": "execute_result"
    }
   ],
   "source": [
    "my_matrix8.shape"
   ]
  },
  {
   "cell_type": "code",
   "execution_count": 227,
   "metadata": {},
   "outputs": [
    {
     "data": {
      "text/plain": [
       "(25, 5)"
      ]
     },
     "execution_count": 227,
     "metadata": {},
     "output_type": "execute_result"
    }
   ],
   "source": [
    "my_matrix7.shape"
   ]
  },
  {
   "cell_type": "markdown",
   "metadata": {},
   "source": [
    "## __8. Selection Using Conditional Statement__"
   ]
  },
  {
   "cell_type": "code",
   "execution_count": 228,
   "metadata": {},
   "outputs": [
    {
     "data": {
      "text/plain": [
       "array([16, 14,  5, 22, 14, 22, 17,  8,  9,  9, 12, 15, 19,  6,  7, 11, 23,\n",
       "       20, 13, 23])"
      ]
     },
     "execution_count": 228,
     "metadata": {},
     "output_type": "execute_result"
    }
   ],
   "source": [
    "gaji = np.random.randint(5,25,20)\n",
    "gaji"
   ]
  },
  {
   "cell_type": "code",
   "execution_count": 229,
   "metadata": {},
   "outputs": [
    {
     "data": {
      "text/plain": [
       "array([ True,  True, False,  True,  True,  True,  True, False, False,\n",
       "       False,  True,  True,  True, False, False,  True,  True,  True,\n",
       "        True,  True])"
      ]
     },
     "execution_count": 229,
     "metadata": {},
     "output_type": "execute_result"
    }
   ],
   "source": [
    "gaji > 10"
   ]
  },
  {
   "cell_type": "code",
   "execution_count": 230,
   "metadata": {},
   "outputs": [
    {
     "data": {
      "text/plain": [
       "array([16, 14, 22, 14, 22, 17, 12, 15, 19, 11, 23, 20, 13, 23])"
      ]
     },
     "execution_count": 230,
     "metadata": {},
     "output_type": "execute_result"
    }
   ],
   "source": [
    "up_10 = gaji[gaji>10]\n",
    "up_10"
   ]
  },
  {
   "cell_type": "code",
   "execution_count": 231,
   "metadata": {},
   "outputs": [
    {
     "data": {
      "text/plain": [
       "70.0"
      ]
     },
     "execution_count": 231,
     "metadata": {},
     "output_type": "execute_result"
    }
   ],
   "source": [
    "len(up_10)/len(gaji)*100"
   ]
  },
  {
   "cell_type": "code",
   "execution_count": 237,
   "metadata": {},
   "outputs": [
    {
     "data": {
      "text/plain": [
       "array([False, False,  True, False, False, False, False,  True,  True,\n",
       "        True, False, False, False,  True,  True, False, False, False,\n",
       "       False, False])"
      ]
     },
     "execution_count": 237,
     "metadata": {},
     "output_type": "execute_result"
    }
   ],
   "source": [
    "# ~ = inverse\n",
    "~(gaji > 10)"
   ]
  },
  {
   "cell_type": "code",
   "execution_count": 235,
   "metadata": {},
   "outputs": [
    {
     "data": {
      "text/plain": [
       "array([5, 8, 9, 9, 6, 7])"
      ]
     },
     "execution_count": 235,
     "metadata": {},
     "output_type": "execute_result"
    }
   ],
   "source": [
    "under_10 = gaji[~(gaji>10)]\n",
    "under_10"
   ]
  },
  {
   "cell_type": "code",
   "execution_count": 238,
   "metadata": {},
   "outputs": [
    {
     "data": {
      "text/plain": [
       "array([5, 8, 9, 9, 6, 7])"
      ]
     },
     "execution_count": 238,
     "metadata": {},
     "output_type": "execute_result"
    }
   ],
   "source": [
    "gaji[np.where(gaji<10)]"
   ]
  },
  {
   "cell_type": "markdown",
   "metadata": {},
   "source": [
    "## __9. Aritmetic__"
   ]
  },
  {
   "cell_type": "code",
   "execution_count": 259,
   "metadata": {},
   "outputs": [
    {
     "data": {
      "text/plain": [
       "array([100,  12,  13,  14,  15,  16,  17,  18,  19,  20,  21,  22,  23,\n",
       "        24,  25,  26,  27,  28,  29,  30])"
      ]
     },
     "execution_count": 259,
     "metadata": {},
     "output_type": "execute_result"
    }
   ],
   "source": [
    "my_array9"
   ]
  },
  {
   "cell_type": "code",
   "execution_count": 260,
   "metadata": {},
   "outputs": [
    {
     "data": {
      "text/plain": [
       "array([11, 13, 12, 12, 10, 11, 13, 10, 10, 13, 12, 11, 10, 11, 10, 12, 12,\n",
       "       14, 10, 12])"
      ]
     },
     "execution_count": 260,
     "metadata": {},
     "output_type": "execute_result"
    }
   ],
   "source": [
    "my_array10 = np.random.randint(10,15,20)\n",
    "my_array10"
   ]
  },
  {
   "cell_type": "code",
   "execution_count": 261,
   "metadata": {},
   "outputs": [
    {
     "data": {
      "text/plain": [
       "array([111,  25,  25,  26,  25,  27,  30,  28,  29,  33,  33,  33,  33,\n",
       "        35,  35,  38,  39,  42,  39,  42])"
      ]
     },
     "execution_count": 261,
     "metadata": {},
     "output_type": "execute_result"
    }
   ],
   "source": [
    "my_array9 + my_array10"
   ]
  },
  {
   "cell_type": "code",
   "execution_count": 265,
   "metadata": {},
   "outputs": [],
   "source": [
    "my_matrix9 = my_array9.reshape(4,5)\n",
    "my_matrix10 = my_array10.reshape(2,10)"
   ]
  },
  {
   "cell_type": "code",
   "execution_count": 266,
   "metadata": {},
   "outputs": [
    {
     "data": {
      "text/plain": [
       "array([[100,  12,  13,  14,  15],\n",
       "       [ 16,  17,  18,  19,  20],\n",
       "       [ 21,  22,  23,  24,  25],\n",
       "       [ 26,  27,  28,  29,  30]])"
      ]
     },
     "execution_count": 266,
     "metadata": {},
     "output_type": "execute_result"
    }
   ],
   "source": [
    "my_matrix9"
   ]
  },
  {
   "cell_type": "code",
   "execution_count": 267,
   "metadata": {},
   "outputs": [
    {
     "data": {
      "text/plain": [
       "array([[11, 13, 12, 12, 10, 11, 13, 10, 10, 13],\n",
       "       [12, 11, 10, 11, 10, 12, 12, 14, 10, 12]])"
      ]
     },
     "execution_count": 267,
     "metadata": {},
     "output_type": "execute_result"
    }
   ],
   "source": [
    "my_matrix10"
   ]
  },
  {
   "cell_type": "code",
   "execution_count": 268,
   "metadata": {},
   "outputs": [
    {
     "ename": "ValueError",
     "evalue": "operands could not be broadcast together with shapes (4,5) (2,10) ",
     "output_type": "error",
     "traceback": [
      "\u001b[1;31m---------------------------------------------------------------------------\u001b[0m",
      "\u001b[1;31mValueError\u001b[0m                                Traceback (most recent call last)",
      "\u001b[1;32m<ipython-input-268-e87fb35b6310>\u001b[0m in \u001b[0;36m<module>\u001b[1;34m\u001b[0m\n\u001b[1;32m----> 1\u001b[1;33m \u001b[0mmy_matrix9\u001b[0m \u001b[1;33m+\u001b[0m \u001b[0mmy_matrix10\u001b[0m\u001b[1;33m\u001b[0m\u001b[1;33m\u001b[0m\u001b[0m\n\u001b[0m",
      "\u001b[1;31mValueError\u001b[0m: operands could not be broadcast together with shapes (4,5) (2,10) "
     ]
    }
   ],
   "source": [
    "# my_matrix9 + my_matrix10"
   ]
  },
  {
   "cell_type": "code",
   "execution_count": 280,
   "metadata": {},
   "outputs": [
    {
     "data": {
      "text/plain": [
       "array([11, 13, 12, 12, 10])"
      ]
     },
     "execution_count": 280,
     "metadata": {},
     "output_type": "execute_result"
    }
   ],
   "source": [
    "my_array10[:5]"
   ]
  },
  {
   "cell_type": "code",
   "execution_count": 271,
   "metadata": {},
   "outputs": [
    {
     "data": {
      "text/plain": [
       "array([[111,  25,  25,  26,  25],\n",
       "       [ 27,  30,  30,  31,  30],\n",
       "       [ 32,  35,  35,  36,  35],\n",
       "       [ 37,  40,  40,  41,  40]])"
      ]
     },
     "execution_count": 271,
     "metadata": {},
     "output_type": "execute_result"
    }
   ],
   "source": [
    "my_matrix9 + my_array10[:5]"
   ]
  },
  {
   "cell_type": "code",
   "execution_count": 272,
   "metadata": {},
   "outputs": [
    {
     "data": {
      "text/plain": [
       "(4, 5)"
      ]
     },
     "execution_count": 272,
     "metadata": {},
     "output_type": "execute_result"
    }
   ],
   "source": [
    "my_matrix9.shape"
   ]
  },
  {
   "cell_type": "code",
   "execution_count": 273,
   "metadata": {},
   "outputs": [
    {
     "data": {
      "text/plain": [
       "(5,)"
      ]
     },
     "execution_count": 273,
     "metadata": {},
     "output_type": "execute_result"
    }
   ],
   "source": [
    "my_array10[:5].shape"
   ]
  },
  {
   "cell_type": "code",
   "execution_count": 274,
   "metadata": {},
   "outputs": [
    {
     "data": {
      "text/plain": [
       "array([100,  12,  13,  14,  15,  16,  17,  18,  19,  20,  21,  22,  23,\n",
       "        24,  25,  26,  27,  28,  29,  30])"
      ]
     },
     "execution_count": 274,
     "metadata": {},
     "output_type": "execute_result"
    }
   ],
   "source": [
    "my_array9"
   ]
  },
  {
   "cell_type": "code",
   "execution_count": 276,
   "metadata": {},
   "outputs": [
    {
     "data": {
      "text/plain": [
       "array([[[100,  12,  13,  14,  15],\n",
       "        [ 16,  17,  18,  19,  20]],\n",
       "\n",
       "       [[ 21,  22,  23,  24,  25],\n",
       "        [ 26,  27,  28,  29,  30]]])"
      ]
     },
     "execution_count": 276,
     "metadata": {},
     "output_type": "execute_result"
    }
   ],
   "source": [
    "## testing pakai 3 dimensi\n",
    "test_matrix = my_array9.reshape(2,2,5)\n",
    "test_matrix"
   ]
  },
  {
   "cell_type": "code",
   "execution_count": 278,
   "metadata": {},
   "outputs": [
    {
     "data": {
      "text/plain": [
       "array([[[111,  25,  25,  26,  25],\n",
       "        [ 27,  30,  30,  31,  30]],\n",
       "\n",
       "       [[ 32,  35,  35,  36,  35],\n",
       "        [ 37,  40,  40,  41,  40]]])"
      ]
     },
     "execution_count": 278,
     "metadata": {},
     "output_type": "execute_result"
    }
   ],
   "source": [
    "test_matrix + my_array10[:5]"
   ]
  },
  {
   "cell_type": "code",
   "execution_count": 279,
   "metadata": {},
   "outputs": [
    {
     "data": {
      "text/plain": [
       "array([89, -1,  1,  2,  5,  5,  4,  8,  9,  7,  9, 11, 13, 13, 15, 14, 15,\n",
       "       14, 19, 18])"
      ]
     },
     "execution_count": 279,
     "metadata": {},
     "output_type": "execute_result"
    }
   ],
   "source": [
    "my_array9 - my_array10"
   ]
  },
  {
   "cell_type": "code",
   "execution_count": 281,
   "metadata": {},
   "outputs": [
    {
     "data": {
      "text/plain": [
       "array([9.09090909, 0.92307692, 1.08333333, 1.16666667, 1.5       ,\n",
       "       1.45454545, 1.30769231, 1.8       , 1.9       , 1.53846154,\n",
       "       1.75      , 2.        , 2.3       , 2.18181818, 2.5       ,\n",
       "       2.16666667, 2.25      , 2.        , 2.9       , 2.5       ])"
      ]
     },
     "execution_count": 281,
     "metadata": {},
     "output_type": "execute_result"
    }
   ],
   "source": [
    "my_array9 / my_array10"
   ]
  },
  {
   "cell_type": "code",
   "execution_count": 290,
   "metadata": {},
   "outputs": [
    {
     "data": {
      "text/plain": [
       "array([9, 0, 1, 1, 1, 1, 1, 1, 1, 1, 1, 2, 2, 2, 2, 2, 2, 2, 2, 2],\n",
       "      dtype=int32)"
      ]
     },
     "execution_count": 290,
     "metadata": {},
     "output_type": "execute_result"
    }
   ],
   "source": [
    "my_array9 // my_array10"
   ]
  },
  {
   "cell_type": "code",
   "execution_count": 282,
   "metadata": {},
   "outputs": [
    {
     "data": {
      "text/plain": [
       "array([1100,  156,  156,  168,  150,  176,  221,  180,  190,  260,  252,\n",
       "        242,  230,  264,  250,  312,  324,  392,  290,  360])"
      ]
     },
     "execution_count": 282,
     "metadata": {},
     "output_type": "execute_result"
    }
   ],
   "source": [
    "my_array9 * my_array10"
   ]
  },
  {
   "cell_type": "code",
   "execution_count": 304,
   "metadata": {},
   "outputs": [
    {
     "data": {
      "text/plain": [
       "array([18446744072405123072,           1275068416, 18446744071597093297,\n",
       "                  344068096,           1124772961,                    0,\n",
       "                 1196240593,           1349403648, 18446744071562510729,\n",
       "                 1409286144,            232284689,            885692416,\n",
       "                 1551643729,                    0,           1977800241,\n",
       "                 1729826816, 18446744071756170961,            268435456,\n",
       "       18446744071716339433,            403968000], dtype=uint64)"
      ]
     },
     "execution_count": 304,
     "metadata": {},
     "output_type": "execute_result"
    }
   ],
   "source": [
    "# ** = pangkat\n",
    "(my_array9**my_array10).astype('uint64')"
   ]
  },
  {
   "cell_type": "code",
   "execution_count": 288,
   "metadata": {},
   "outputs": [
    {
     "data": {
      "text/plain": [
       "array([1000000,    1728,    2197,    2744,    3375,    4096,    4913,\n",
       "          5832,    6859,    8000,    9261,   10648,   12167,   13824,\n",
       "         15625,   17576,   19683,   21952,   24389,   27000], dtype=int32)"
      ]
     },
     "execution_count": 288,
     "metadata": {},
     "output_type": "execute_result"
    }
   ],
   "source": [
    "np.power(my_array9, [3])"
   ]
  },
  {
   "cell_type": "code",
   "execution_count": 294,
   "metadata": {},
   "outputs": [
    {
     "data": {
      "text/plain": [
       "array([100,  12,  13,  14,  15,  16,  17,  18,  19,  20,  21,  22,  23,\n",
       "        24,  25,  26,  27,  28,  29,  30])"
      ]
     },
     "metadata": {},
     "output_type": "display_data"
    },
    {
     "data": {
      "text/plain": [
       "array([10.        ,  3.46410162,  3.60555128,  3.74165739,  3.87298335,\n",
       "        4.        ,  4.12310563,  4.24264069,  4.35889894,  4.47213595,\n",
       "        4.58257569,  4.69041576,  4.79583152,  4.89897949,  5.        ,\n",
       "        5.09901951,  5.19615242,  5.29150262,  5.38516481,  5.47722558])"
      ]
     },
     "metadata": {},
     "output_type": "display_data"
    }
   ],
   "source": [
    "display(my_array9)\n",
    "display(np.sqrt(my_array9))"
   ]
  },
  {
   "cell_type": "code",
   "execution_count": 296,
   "metadata": {},
   "outputs": [
    {
     "data": {
      "text/plain": [
       "3.0"
      ]
     },
     "execution_count": 296,
     "metadata": {},
     "output_type": "execute_result"
    }
   ],
   "source": [
    "np.log2(8)"
   ]
  },
  {
   "cell_type": "code",
   "execution_count": 297,
   "metadata": {},
   "outputs": [
    {
     "data": {
      "text/plain": [
       "2.0"
      ]
     },
     "execution_count": 297,
     "metadata": {},
     "output_type": "execute_result"
    }
   ],
   "source": [
    "np.log10(100)"
   ]
  },
  {
   "cell_type": "code",
   "execution_count": 300,
   "metadata": {},
   "outputs": [
    {
     "data": {
      "text/plain": [
       "2.0"
      ]
     },
     "execution_count": 300,
     "metadata": {},
     "output_type": "execute_result"
    }
   ],
   "source": [
    "np.log(np.power(2.71828182845904523536028747135266249775724709369995,2))"
   ]
  },
  {
   "cell_type": "code",
   "execution_count": 301,
   "metadata": {},
   "outputs": [
    {
     "data": {
      "text/plain": [
       "7.38905609893065"
      ]
     },
     "execution_count": 301,
     "metadata": {},
     "output_type": "execute_result"
    }
   ],
   "source": [
    "np.exp(2)"
   ]
  },
  {
   "cell_type": "code",
   "execution_count": 302,
   "metadata": {},
   "outputs": [
    {
     "data": {
      "text/plain": [
       "24.95"
      ]
     },
     "execution_count": 302,
     "metadata": {},
     "output_type": "execute_result"
    }
   ],
   "source": [
    "np.mean(my_array9)"
   ]
  },
  {
   "cell_type": "code",
   "execution_count": 306,
   "metadata": {},
   "outputs": [
    {
     "data": {
      "text/plain": [
       "array([100,  12,  13,  14,  15,  16,  17,  18,  19,  20,  21,  22,  23,\n",
       "        24,  25,  26,  27,  28,  29,  30])"
      ]
     },
     "metadata": {},
     "output_type": "display_data"
    },
    {
     "data": {
      "text/plain": [
       "21.5"
      ]
     },
     "execution_count": 306,
     "metadata": {},
     "output_type": "execute_result"
    }
   ],
   "source": [
    "display(my_array9)\n",
    "np.median(my_array9)"
   ]
  },
  {
   "cell_type": "code",
   "execution_count": 324,
   "metadata": {},
   "outputs": [
    {
     "data": {
      "text/plain": [
       "80.0"
      ]
     },
     "execution_count": 324,
     "metadata": {},
     "output_type": "execute_result"
    }
   ],
   "source": [
    "test = np.array([20, 21, 23, 25, 30, 31, 35, 250, 150, 175, 120])\n",
    "mean_test = test.mean()\n",
    "mean_test"
   ]
  },
  {
   "cell_type": "code",
   "execution_count": 332,
   "metadata": {},
   "outputs": [
    {
     "data": {
      "text/plain": [
       "76.69656860879525"
      ]
     },
     "execution_count": 332,
     "metadata": {},
     "output_type": "execute_result"
    }
   ],
   "source": [
    "test.std(ddof=0)"
   ]
  },
  {
   "cell_type": "code",
   "execution_count": 328,
   "metadata": {},
   "outputs": [
    {
     "data": {
      "text/plain": [
       "76.69656860879525"
      ]
     },
     "execution_count": 328,
     "metadata": {},
     "output_type": "execute_result"
    }
   ],
   "source": [
    "total = 0\n",
    "for i in test:\n",
    "    total += (i-mean_test)**2\n",
    "    \n",
    "standard_dev = (total/len(test))**.5\n",
    "standard_dev"
   ]
  },
  {
   "cell_type": "code",
   "execution_count": 334,
   "metadata": {},
   "outputs": [
    {
     "data": {
      "text/plain": [
       "2"
      ]
     },
     "execution_count": 334,
     "metadata": {},
     "output_type": "execute_result"
    }
   ],
   "source": [
    "np.absolute(-2)"
   ]
  },
  {
   "cell_type": "code",
   "execution_count": 335,
   "metadata": {},
   "outputs": [
    {
     "data": {
      "text/plain": [
       "array([-0.50636564, -0.53657292,  0.42016704,  0.99060736,  0.65028784,\n",
       "       -0.28790332, -0.96139749, -0.75098725,  0.14987721,  0.91294525,\n",
       "        0.83665564, -0.00885131, -0.8462204 , -0.90557836, -0.13235175,\n",
       "        0.76255845,  0.95637593,  0.27090579, -0.66363388, -0.98803162])"
      ]
     },
     "execution_count": 335,
     "metadata": {},
     "output_type": "execute_result"
    }
   ],
   "source": [
    "np.sin(my_array9)"
   ]
  },
  {
   "cell_type": "code",
   "execution_count": 336,
   "metadata": {},
   "outputs": [
    {
     "data": {
      "text/plain": [
       "array([ 0.86231887,  0.84385396,  0.90744678,  0.13673722, -0.75968791,\n",
       "       -0.95765948, -0.27516334,  0.66031671,  0.98870462,  0.40808206,\n",
       "       -0.54772926, -0.99996083, -0.53283302,  0.42417901,  0.99120281,\n",
       "        0.64691932, -0.29213881, -0.96260587, -0.74805753,  0.15425145])"
      ]
     },
     "execution_count": 336,
     "metadata": {},
     "output_type": "execute_result"
    }
   ],
   "source": [
    "np.cos(my_array9)"
   ]
  },
  {
   "cell_type": "code",
   "execution_count": 337,
   "metadata": {},
   "outputs": [
    {
     "data": {
      "text/plain": [
       "array([-0.58721392, -0.63585993,  0.46302113,  7.24460662, -0.8559934 ,\n",
       "        0.30063224,  3.49391565, -1.13731371,  0.15158947,  2.23716094,\n",
       "       -1.52749853,  0.00885166,  1.58815308, -2.1348967 , -0.13352641,\n",
       "        1.17875355, -3.2737038 , -0.2814296 ,  0.88714284, -6.4053312 ])"
      ]
     },
     "execution_count": 337,
     "metadata": {},
     "output_type": "execute_result"
    }
   ],
   "source": [
    "np.tan(my_array9)"
   ]
  },
  {
   "cell_type": "markdown",
   "metadata": {},
   "source": [
    "## __10. np.append(), np.insert(), np.delete()__"
   ]
  },
  {
   "cell_type": "code",
   "execution_count": 338,
   "metadata": {},
   "outputs": [
    {
     "data": {
      "text/plain": [
       "array([100,  12,  13,  14,  15,  16,  17,  18,  19,  20,  21,  22,  23,\n",
       "        24,  25,  26,  27,  28,  29,  30])"
      ]
     },
     "execution_count": 338,
     "metadata": {},
     "output_type": "execute_result"
    }
   ],
   "source": [
    "my_array9"
   ]
  },
  {
   "cell_type": "code",
   "execution_count": 339,
   "metadata": {},
   "outputs": [
    {
     "data": {
      "text/plain": [
       "array([100,  12,  13,  14,  15,  16,  17,  18,  19,  20,  21,  22,  23,\n",
       "        24,  25,  26,  27,  28,  29,  30,  31])"
      ]
     },
     "execution_count": 339,
     "metadata": {},
     "output_type": "execute_result"
    }
   ],
   "source": [
    "np.append(my_array9, 31)"
   ]
  },
  {
   "cell_type": "code",
   "execution_count": 341,
   "metadata": {},
   "outputs": [
    {
     "data": {
      "text/plain": [
       "array([100,  12,  13,  14,  15,  16,  17,  18,  19,  20, 110,  21,  22,\n",
       "        23,  24,  25,  26,  27,  28,  29,  30])"
      ]
     },
     "execution_count": 341,
     "metadata": {},
     "output_type": "execute_result"
    }
   ],
   "source": [
    "np.insert(my_array9, 10, 110)"
   ]
  },
  {
   "cell_type": "code",
   "execution_count": 343,
   "metadata": {},
   "outputs": [
    {
     "data": {
      "text/plain": [
       "array([12, 13, 14, 15, 16, 17, 18, 19, 20, 21, 22, 23, 24, 25, 26, 27, 28,\n",
       "       29, 30])"
      ]
     },
     "execution_count": 343,
     "metadata": {},
     "output_type": "execute_result"
    }
   ],
   "source": [
    "np.delete(my_array9, 0)"
   ]
  },
  {
   "cell_type": "code",
   "execution_count": 344,
   "metadata": {},
   "outputs": [
    {
     "data": {
      "text/plain": [
       "array([100,  12,  13,  14,  15,  16,  17,  18,  19,  20,  21,  22,  23,\n",
       "        24,  25,  26,  27,  28,  29,  30])"
      ]
     },
     "execution_count": 344,
     "metadata": {},
     "output_type": "execute_result"
    }
   ],
   "source": [
    "my_array9"
   ]
  },
  {
   "cell_type": "markdown",
   "metadata": {},
   "source": [
    "## __11. np.vstack() & np.hstack()__"
   ]
  },
  {
   "cell_type": "code",
   "execution_count": 345,
   "metadata": {},
   "outputs": [
    {
     "data": {
      "text/plain": [
       "array([100,  12,  13,  14,  15,  16,  17,  18,  19,  20,  21,  22,  23,\n",
       "        24,  25,  26,  27,  28,  29,  30])"
      ]
     },
     "execution_count": 345,
     "metadata": {},
     "output_type": "execute_result"
    }
   ],
   "source": [
    "my_array9"
   ]
  },
  {
   "cell_type": "code",
   "execution_count": 346,
   "metadata": {},
   "outputs": [
    {
     "data": {
      "text/plain": [
       "array([11, 13, 12, 12, 10, 11, 13, 10, 10, 13, 12, 11, 10, 11, 10, 12, 12,\n",
       "       14, 10, 12])"
      ]
     },
     "execution_count": 346,
     "metadata": {},
     "output_type": "execute_result"
    }
   ],
   "source": [
    "my_array10"
   ]
  },
  {
   "cell_type": "code",
   "execution_count": 348,
   "metadata": {},
   "outputs": [
    {
     "name": "stdout",
     "output_type": "stream",
     "text": [
      "[[100  12  13  14  15  16  17  18  19  20  21  22  23  24  25  26  27  28\n",
      "   29  30]\n",
      " [ 11  13  12  12  10  11  13  10  10  13  12  11  10  11  10  12  12  14\n",
      "   10  12]]\n"
     ]
    }
   ],
   "source": [
    "vstack9_10 = np.vstack([my_array9, my_array10])\n",
    "print(vstack9_10)"
   ]
  },
  {
   "cell_type": "code",
   "execution_count": 350,
   "metadata": {},
   "outputs": [
    {
     "data": {
      "text/plain": [
       "(2, 20)"
      ]
     },
     "execution_count": 350,
     "metadata": {},
     "output_type": "execute_result"
    }
   ],
   "source": [
    "vstack9_10.shape"
   ]
  },
  {
   "cell_type": "code",
   "execution_count": 354,
   "metadata": {},
   "outputs": [
    {
     "data": {
      "text/plain": [
       "array([[7, 7, 5, 5, 7, 2, 4, 6, 4, 9, 6, 6, 2, 6, 1, 5, 1, 1, 2, 6],\n",
       "       [8, 3, 4, 7, 1, 3, 5, 1, 9, 3, 5, 9, 8, 7, 1, 2, 7, 7, 7, 5]])"
      ]
     },
     "execution_count": 354,
     "metadata": {},
     "output_type": "execute_result"
    }
   ],
   "source": [
    "my_matrix11 = np.random.randint(1,10,[2,20])\n",
    "my_matrix11"
   ]
  },
  {
   "cell_type": "code",
   "execution_count": 355,
   "metadata": {},
   "outputs": [
    {
     "data": {
      "text/plain": [
       "array([[100,  12,  13,  14,  15,  16,  17,  18,  19,  20,  21,  22,  23,\n",
       "         24,  25,  26,  27,  28,  29,  30,   7,   7,   5,   5,   7,   2,\n",
       "          4,   6,   4,   9,   6,   6,   2,   6,   1,   5,   1,   1,   2,\n",
       "          6],\n",
       "       [ 11,  13,  12,  12,  10,  11,  13,  10,  10,  13,  12,  11,  10,\n",
       "         11,  10,  12,  12,  14,  10,  12,   8,   3,   4,   7,   1,   3,\n",
       "          5,   1,   9,   3,   5,   9,   8,   7,   1,   2,   7,   7,   7,\n",
       "          5]])"
      ]
     },
     "execution_count": 355,
     "metadata": {},
     "output_type": "execute_result"
    }
   ],
   "source": [
    "hstack910_11 = np.hstack([vstack9_10, my_matrix11])\n",
    "hstack910_11"
   ]
  },
  {
   "cell_type": "code",
   "execution_count": 356,
   "metadata": {},
   "outputs": [
    {
     "data": {
      "text/plain": [
       "(2, 40)"
      ]
     },
     "execution_count": 356,
     "metadata": {},
     "output_type": "execute_result"
    }
   ],
   "source": [
    "hstack910_11.shape"
   ]
  },
  {
   "cell_type": "code",
   "execution_count": 357,
   "metadata": {},
   "outputs": [
    {
     "data": {
      "text/plain": [
       "array([11, 13, 12, 12, 10, 11, 13, 10, 10, 13])"
      ]
     },
     "execution_count": 357,
     "metadata": {},
     "output_type": "execute_result"
    }
   ],
   "source": [
    "my_array12 = my_array10[:10]\n",
    "my_array12"
   ]
  },
  {
   "cell_type": "markdown",
   "metadata": {},
   "source": [
    "### __11.1 Warning using vstack and hstack__\n",
    "- Kalau menggunakan vstack perhatikan kolomnya\n",
    "- Kalau menggunakan hstack perhatikan rownya dan dimensionnya"
   ]
  },
  {
   "cell_type": "code",
   "execution_count": 358,
   "metadata": {},
   "outputs": [
    {
     "ename": "ValueError",
     "evalue": "all the input array dimensions for the concatenation axis must match exactly, but along dimension 1, the array at index 0 has size 20 and the array at index 1 has size 10",
     "output_type": "error",
     "traceback": [
      "\u001b[1;31m---------------------------------------------------------------------------\u001b[0m",
      "\u001b[1;31mValueError\u001b[0m                                Traceback (most recent call last)",
      "\u001b[1;32m<ipython-input-358-21a4fa406597>\u001b[0m in \u001b[0;36m<module>\u001b[1;34m\u001b[0m\n\u001b[1;32m----> 1\u001b[1;33m \u001b[0mnp\u001b[0m\u001b[1;33m.\u001b[0m\u001b[0mvstack\u001b[0m\u001b[1;33m(\u001b[0m\u001b[1;33m[\u001b[0m\u001b[0mmy_array9\u001b[0m\u001b[1;33m,\u001b[0m \u001b[0mmy_array12\u001b[0m\u001b[1;33m]\u001b[0m\u001b[1;33m)\u001b[0m\u001b[1;33m\u001b[0m\u001b[1;33m\u001b[0m\u001b[0m\n\u001b[0m",
      "\u001b[1;32m<__array_function__ internals>\u001b[0m in \u001b[0;36mvstack\u001b[1;34m(*args, **kwargs)\u001b[0m\n",
      "\u001b[1;32m~\\Anaconda3\\lib\\site-packages\\numpy\\core\\shape_base.py\u001b[0m in \u001b[0;36mvstack\u001b[1;34m(tup)\u001b[0m\n\u001b[0;32m    281\u001b[0m     \u001b[1;32mif\u001b[0m \u001b[1;32mnot\u001b[0m \u001b[0misinstance\u001b[0m\u001b[1;33m(\u001b[0m\u001b[0marrs\u001b[0m\u001b[1;33m,\u001b[0m \u001b[0mlist\u001b[0m\u001b[1;33m)\u001b[0m\u001b[1;33m:\u001b[0m\u001b[1;33m\u001b[0m\u001b[1;33m\u001b[0m\u001b[0m\n\u001b[0;32m    282\u001b[0m         \u001b[0marrs\u001b[0m \u001b[1;33m=\u001b[0m \u001b[1;33m[\u001b[0m\u001b[0marrs\u001b[0m\u001b[1;33m]\u001b[0m\u001b[1;33m\u001b[0m\u001b[1;33m\u001b[0m\u001b[0m\n\u001b[1;32m--> 283\u001b[1;33m     \u001b[1;32mreturn\u001b[0m \u001b[0m_nx\u001b[0m\u001b[1;33m.\u001b[0m\u001b[0mconcatenate\u001b[0m\u001b[1;33m(\u001b[0m\u001b[0marrs\u001b[0m\u001b[1;33m,\u001b[0m \u001b[1;36m0\u001b[0m\u001b[1;33m)\u001b[0m\u001b[1;33m\u001b[0m\u001b[1;33m\u001b[0m\u001b[0m\n\u001b[0m\u001b[0;32m    284\u001b[0m \u001b[1;33m\u001b[0m\u001b[0m\n\u001b[0;32m    285\u001b[0m \u001b[1;33m\u001b[0m\u001b[0m\n",
      "\u001b[1;32m<__array_function__ internals>\u001b[0m in \u001b[0;36mconcatenate\u001b[1;34m(*args, **kwargs)\u001b[0m\n",
      "\u001b[1;31mValueError\u001b[0m: all the input array dimensions for the concatenation axis must match exactly, but along dimension 1, the array at index 0 has size 20 and the array at index 1 has size 10"
     ]
    }
   ],
   "source": [
    "# error\n",
    "# np.vstack([my_array9, my_array12])"
   ]
  },
  {
   "cell_type": "code",
   "execution_count": 359,
   "metadata": {},
   "outputs": [
    {
     "data": {
      "text/plain": [
       "array([100,  12,  13,  14,  15,  16,  17,  18,  19,  20,  21,  22,  23,\n",
       "        24,  25,  26,  27,  28,  29,  30,  11,  13,  12,  12,  10,  11,\n",
       "        13,  10,  10,  13])"
      ]
     },
     "execution_count": 359,
     "metadata": {},
     "output_type": "execute_result"
    }
   ],
   "source": [
    "np.hstack([my_array9, my_array12])"
   ]
  },
  {
   "cell_type": "code",
   "execution_count": 376,
   "metadata": {},
   "outputs": [
    {
     "data": {
      "text/plain": [
       "array([[7, 7, 5, 5, 7, 2, 4, 6, 4, 9, 6, 6, 2, 6, 1, 5, 1, 1, 2, 6]])"
      ]
     },
     "execution_count": 376,
     "metadata": {},
     "output_type": "execute_result"
    }
   ],
   "source": [
    "matrix11_testing = my_matrix11[[0]]\n",
    "matrix11_testing"
   ]
  },
  {
   "cell_type": "code",
   "execution_count": 379,
   "metadata": {},
   "outputs": [
    {
     "data": {
      "text/plain": [
       "array([[100,  12,  13,  14,  15,  16,  17,  18,  19,  20],\n",
       "       [ 21,  22,  23,  24,  25,  26,  27,  28,  29,  30]])"
      ]
     },
     "execution_count": 379,
     "metadata": {},
     "output_type": "execute_result"
    }
   ],
   "source": [
    "matrix9_testing = my_array9.reshape(2,-1)\n",
    "matrix9_testing"
   ]
  },
  {
   "cell_type": "code",
   "execution_count": 378,
   "metadata": {},
   "outputs": [
    {
     "data": {
      "text/plain": [
       "array([[7, 7, 5, 5, 7, 2, 4, 6, 4, 9, 6, 6, 2, 6, 1, 5, 1, 1, 2, 6],\n",
       "       [8, 3, 4, 7, 1, 3, 5, 1, 9, 3, 5, 9, 8, 7, 1, 2, 7, 7, 7, 5]])"
      ]
     },
     "execution_count": 378,
     "metadata": {},
     "output_type": "execute_result"
    }
   ],
   "source": [
    "my_matrix11"
   ]
  },
  {
   "cell_type": "code",
   "execution_count": 380,
   "metadata": {},
   "outputs": [
    {
     "data": {
      "text/plain": [
       "array([[  7,   7,   5,   5,   7,   2,   4,   6,   4,   9,   6,   6,   2,\n",
       "          6,   1,   5,   1,   1,   2,   6, 100,  12,  13,  14,  15,  16,\n",
       "         17,  18,  19,  20],\n",
       "       [  8,   3,   4,   7,   1,   3,   5,   1,   9,   3,   5,   9,   8,\n",
       "          7,   1,   2,   7,   7,   7,   5,  21,  22,  23,  24,  25,  26,\n",
       "         27,  28,  29,  30]])"
      ]
     },
     "execution_count": 380,
     "metadata": {},
     "output_type": "execute_result"
    }
   ],
   "source": [
    "np.hstack([my_matrix11, matrix9_testing])"
   ]
  },
  {
   "cell_type": "code",
   "execution_count": 362,
   "metadata": {},
   "outputs": [
    {
     "ename": "ValueError",
     "evalue": "all the input arrays must have same number of dimensions, but the array at index 0 has 1 dimension(s) and the array at index 1 has 2 dimension(s)",
     "output_type": "error",
     "traceback": [
      "\u001b[1;31m---------------------------------------------------------------------------\u001b[0m",
      "\u001b[1;31mValueError\u001b[0m                                Traceback (most recent call last)",
      "\u001b[1;32m<ipython-input-362-b39224aa7392>\u001b[0m in \u001b[0;36m<module>\u001b[1;34m\u001b[0m\n\u001b[1;32m----> 1\u001b[1;33m \u001b[0mnp\u001b[0m\u001b[1;33m.\u001b[0m\u001b[0mhstack\u001b[0m\u001b[1;33m(\u001b[0m\u001b[1;33m[\u001b[0m\u001b[0mmy_array9\u001b[0m\u001b[1;33m,\u001b[0m \u001b[0mmy_matrix11\u001b[0m\u001b[1;33m]\u001b[0m\u001b[1;33m)\u001b[0m\u001b[1;33m\u001b[0m\u001b[1;33m\u001b[0m\u001b[0m\n\u001b[0m",
      "\u001b[1;32m<__array_function__ internals>\u001b[0m in \u001b[0;36mhstack\u001b[1;34m(*args, **kwargs)\u001b[0m\n",
      "\u001b[1;32m~\\Anaconda3\\lib\\site-packages\\numpy\\core\\shape_base.py\u001b[0m in \u001b[0;36mhstack\u001b[1;34m(tup)\u001b[0m\n\u001b[0;32m    341\u001b[0m     \u001b[1;31m# As a special case, dimension 0 of 1-dimensional arrays is \"horizontal\"\u001b[0m\u001b[1;33m\u001b[0m\u001b[1;33m\u001b[0m\u001b[1;33m\u001b[0m\u001b[0m\n\u001b[0;32m    342\u001b[0m     \u001b[1;32mif\u001b[0m \u001b[0marrs\u001b[0m \u001b[1;32mand\u001b[0m \u001b[0marrs\u001b[0m\u001b[1;33m[\u001b[0m\u001b[1;36m0\u001b[0m\u001b[1;33m]\u001b[0m\u001b[1;33m.\u001b[0m\u001b[0mndim\u001b[0m \u001b[1;33m==\u001b[0m \u001b[1;36m1\u001b[0m\u001b[1;33m:\u001b[0m\u001b[1;33m\u001b[0m\u001b[1;33m\u001b[0m\u001b[0m\n\u001b[1;32m--> 343\u001b[1;33m         \u001b[1;32mreturn\u001b[0m \u001b[0m_nx\u001b[0m\u001b[1;33m.\u001b[0m\u001b[0mconcatenate\u001b[0m\u001b[1;33m(\u001b[0m\u001b[0marrs\u001b[0m\u001b[1;33m,\u001b[0m \u001b[1;36m0\u001b[0m\u001b[1;33m)\u001b[0m\u001b[1;33m\u001b[0m\u001b[1;33m\u001b[0m\u001b[0m\n\u001b[0m\u001b[0;32m    344\u001b[0m     \u001b[1;32melse\u001b[0m\u001b[1;33m:\u001b[0m\u001b[1;33m\u001b[0m\u001b[1;33m\u001b[0m\u001b[0m\n\u001b[0;32m    345\u001b[0m         \u001b[1;32mreturn\u001b[0m \u001b[0m_nx\u001b[0m\u001b[1;33m.\u001b[0m\u001b[0mconcatenate\u001b[0m\u001b[1;33m(\u001b[0m\u001b[0marrs\u001b[0m\u001b[1;33m,\u001b[0m \u001b[1;36m1\u001b[0m\u001b[1;33m)\u001b[0m\u001b[1;33m\u001b[0m\u001b[1;33m\u001b[0m\u001b[0m\n",
      "\u001b[1;32m<__array_function__ internals>\u001b[0m in \u001b[0;36mconcatenate\u001b[1;34m(*args, **kwargs)\u001b[0m\n",
      "\u001b[1;31mValueError\u001b[0m: all the input arrays must have same number of dimensions, but the array at index 0 has 1 dimension(s) and the array at index 1 has 2 dimension(s)"
     ]
    }
   ],
   "source": [
    "# np.hstack([my_array9, my_matrix11])"
   ]
  },
  {
   "cell_type": "code",
   "execution_count": 381,
   "metadata": {},
   "outputs": [
    {
     "data": {
      "text/plain": [
       "array([100,  12,  13,  14,  15,  16,  17,  18,  19,  20,  21,  22,  23,\n",
       "        24,  25,  26,  27,  28,  29,  30])"
      ]
     },
     "execution_count": 381,
     "metadata": {},
     "output_type": "execute_result"
    }
   ],
   "source": [
    "my_array9"
   ]
  },
  {
   "cell_type": "code",
   "execution_count": 363,
   "metadata": {},
   "outputs": [
    {
     "data": {
      "text/plain": [
       "array([[100,  12,  13,  14,  15,  16,  17,  18,  19,  20,  21,  22,  23,\n",
       "         24,  25,  26,  27,  28,  29,  30],\n",
       "       [  7,   7,   5,   5,   7,   2,   4,   6,   4,   9,   6,   6,   2,\n",
       "          6,   1,   5,   1,   1,   2,   6],\n",
       "       [  8,   3,   4,   7,   1,   3,   5,   1,   9,   3,   5,   9,   8,\n",
       "          7,   1,   2,   7,   7,   7,   5]])"
      ]
     },
     "execution_count": 363,
     "metadata": {},
     "output_type": "execute_result"
    }
   ],
   "source": [
    "np.vstack([my_array9, my_matrix11])"
   ]
  },
  {
   "cell_type": "markdown",
   "metadata": {},
   "source": [
    "## __12. np.concatenate()__"
   ]
  },
  {
   "cell_type": "code",
   "execution_count": 382,
   "metadata": {},
   "outputs": [
    {
     "data": {
      "text/plain": [
       "array([100,  12,  13,  14,  15,  16,  17,  18,  19,  20,  21,  22,  23,\n",
       "        24,  25,  26,  27,  28,  29,  30])"
      ]
     },
     "execution_count": 382,
     "metadata": {},
     "output_type": "execute_result"
    }
   ],
   "source": [
    "my_array9"
   ]
  },
  {
   "cell_type": "code",
   "execution_count": 384,
   "metadata": {},
   "outputs": [
    {
     "data": {
      "text/plain": [
       "array([11, 12, 13, 14, 15, 16, 17, 18, 19, 20, 21, 22, 23, 24, 25, 26, 27,\n",
       "       28, 29, 30])"
      ]
     },
     "execution_count": 384,
     "metadata": {},
     "output_type": "execute_result"
    }
   ],
   "source": [
    "my_array8"
   ]
  },
  {
   "cell_type": "code",
   "execution_count": 387,
   "metadata": {},
   "outputs": [
    {
     "data": {
      "text/plain": [
       "array([100,  12,  13,  14,  15,  16,  17,  18,  19,  20,  21,  22,  23,\n",
       "        24,  25,  26,  27,  28,  29,  30,  11,  12,  13,  14,  15,  16,\n",
       "        17,  18,  19,  20,  21,  22,  23,  24,  25,  26,  27,  28,  29,\n",
       "        30])"
      ]
     },
     "execution_count": 387,
     "metadata": {},
     "output_type": "execute_result"
    }
   ],
   "source": [
    "arr8_9_0 = np.concatenate([my_array9, my_array8], axis=0)\n",
    "arr8_9_0"
   ]
  },
  {
   "cell_type": "code",
   "execution_count": 409,
   "metadata": {},
   "outputs": [
    {
     "data": {
      "text/plain": [
       "array([[100,  12,  13,  14,  15,  16,  17,  18,  19,  20,  21,  22,  23,\n",
       "         24,  25,  26,  27,  28,  29,  30,  11,  12,  13,  14,  15,  16,\n",
       "         17,  18,  19,  20,  21,  22,  23,  24,  25,  26,  27,  28,  29,\n",
       "         30]])"
      ]
     },
     "execution_count": 409,
     "metadata": {},
     "output_type": "execute_result"
    }
   ],
   "source": [
    "arr8_9_0 = np.concatenate([my_array9.reshape(1,-1), my_array8.reshape(1,-1)], axis=-1)\n",
    "arr8_9_0"
   ]
  },
  {
   "cell_type": "code",
   "execution_count": 399,
   "metadata": {},
   "outputs": [
    {
     "data": {
      "text/plain": [
       "20"
      ]
     },
     "execution_count": 399,
     "metadata": {},
     "output_type": "execute_result"
    }
   ],
   "source": [
    "len(my_array9)"
   ]
  },
  {
   "cell_type": "code",
   "execution_count": 405,
   "metadata": {},
   "outputs": [
    {
     "data": {
      "text/plain": [
       "array([[[100,  12,  11,  12],\n",
       "        [ 13,  14,  13,  14],\n",
       "        [ 15,  16,  15,  16],\n",
       "        [ 17,  18,  17,  18],\n",
       "        [ 19,  20,  19,  20]],\n",
       "\n",
       "       [[ 21,  22,  21,  22],\n",
       "        [ 23,  24,  23,  24],\n",
       "        [ 25,  26,  25,  26],\n",
       "        [ 27,  28,  27,  28],\n",
       "        [ 29,  30,  29,  30]]])"
      ]
     },
     "execution_count": 405,
     "metadata": {},
     "output_type": "execute_result"
    }
   ],
   "source": [
    "arr8_9_0 = np.concatenate([my_array9.reshape(2,5,2), my_array8.reshape(2,5,2)], axis=2)\n",
    "arr8_9_0"
   ]
  },
  {
   "cell_type": "code",
   "execution_count": 395,
   "metadata": {},
   "outputs": [
    {
     "data": {
      "text/plain": [
       "(array([[[100,  12],\n",
       "         [ 13,  14],\n",
       "         [ 15,  16],\n",
       "         [ 17,  18],\n",
       "         [ 19,  20]],\n",
       " \n",
       "        [[ 21,  22],\n",
       "         [ 23,  24],\n",
       "         [ 25,  26],\n",
       "         [ 27,  28],\n",
       "         [ 29,  30]]]),\n",
       " array([[[11, 12],\n",
       "         [13, 14],\n",
       "         [15, 16],\n",
       "         [17, 18],\n",
       "         [19, 20]],\n",
       " \n",
       "        [[21, 22],\n",
       "         [23, 24],\n",
       "         [25, 26],\n",
       "         [27, 28],\n",
       "         [29, 30]]]))"
      ]
     },
     "execution_count": 395,
     "metadata": {},
     "output_type": "execute_result"
    }
   ],
   "source": [
    "my_array9.reshape(2,5,-1), my_array8.reshape(2,5,-1)"
   ]
  },
  {
   "cell_type": "markdown",
   "metadata": {},
   "source": [
    "## __13. np.sort()__"
   ]
  },
  {
   "cell_type": "code",
   "execution_count": 410,
   "metadata": {},
   "outputs": [
    {
     "data": {
      "text/plain": [
       "array([100,  12,  13,  14,  15,  16,  17,  18,  19,  20,  21,  22,  23,\n",
       "        24,  25,  26,  27,  28,  29,  30])"
      ]
     },
     "execution_count": 410,
     "metadata": {},
     "output_type": "execute_result"
    }
   ],
   "source": [
    "my_array9"
   ]
  },
  {
   "cell_type": "code",
   "execution_count": 411,
   "metadata": {},
   "outputs": [
    {
     "data": {
      "text/plain": [
       "array([ 12,  13,  14,  15,  16,  17,  18,  19,  20,  21,  22,  23,  24,\n",
       "        25,  26,  27,  28,  29,  30, 100])"
      ]
     },
     "execution_count": 411,
     "metadata": {},
     "output_type": "execute_result"
    }
   ],
   "source": [
    "np.sort(my_array9)"
   ]
  },
  {
   "cell_type": "markdown",
   "metadata": {},
   "source": [
    "## __14. arr.transpose()__"
   ]
  },
  {
   "cell_type": "code",
   "execution_count": 418,
   "metadata": {},
   "outputs": [
    {
     "data": {
      "text/plain": [
       "array([[100,  12,  13,  14,  15],\n",
       "       [ 16,  17,  18,  19,  20],\n",
       "       [ 21,  22,  23,  24,  25],\n",
       "       [ 26,  27,  28,  29,  30]])"
      ]
     },
     "metadata": {},
     "output_type": "display_data"
    },
    {
     "data": {
      "text/plain": [
       "(4, 5)"
      ]
     },
     "metadata": {},
     "output_type": "display_data"
    }
   ],
   "source": [
    "display(my_matrix9)\n",
    "display(my_matrix9.shape)"
   ]
  },
  {
   "cell_type": "code",
   "execution_count": 419,
   "metadata": {},
   "outputs": [
    {
     "data": {
      "text/plain": [
       "array([[100,  16,  21,  26],\n",
       "       [ 12,  17,  22,  27],\n",
       "       [ 13,  18,  23,  28],\n",
       "       [ 14,  19,  24,  29],\n",
       "       [ 15,  20,  25,  30]])"
      ]
     },
     "metadata": {},
     "output_type": "display_data"
    },
    {
     "data": {
      "text/plain": [
       "(5, 4)"
      ]
     },
     "metadata": {},
     "output_type": "display_data"
    }
   ],
   "source": [
    "my_matrix9_trans = my_matrix9.transpose()\n",
    "display(my_matrix9_trans)\n",
    "display(my_matrix9_trans.shape)"
   ]
  },
  {
   "cell_type": "code",
   "execution_count": 417,
   "metadata": {},
   "outputs": [
    {
     "data": {
      "text/plain": [
       "array([[100,  16,  21,  26],\n",
       "       [ 12,  17,  22,  27],\n",
       "       [ 13,  18,  23,  28],\n",
       "       [ 14,  19,  24,  29],\n",
       "       [ 15,  20,  25,  30]])"
      ]
     },
     "execution_count": 417,
     "metadata": {},
     "output_type": "execute_result"
    }
   ],
   "source": [
    "my_matrix9.T"
   ]
  },
  {
   "cell_type": "code",
   "execution_count": null,
   "metadata": {},
   "outputs": [],
   "source": []
  }
 ],
 "metadata": {
  "kernelspec": {
   "display_name": "Python 3",
   "language": "python",
   "name": "python3"
  },
  "language_info": {
   "codemirror_mode": {
    "name": "ipython",
    "version": 3
   },
   "file_extension": ".py",
   "mimetype": "text/x-python",
   "name": "python",
   "nbconvert_exporter": "python",
   "pygments_lexer": "ipython3",
   "version": "3.8.3"
  }
 },
 "nbformat": 4,
 "nbformat_minor": 4
}
