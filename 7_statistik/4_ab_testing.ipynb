{
 "cells": [
  {
   "cell_type": "markdown",
   "metadata": {},
   "source": [
    "## Use Case : A/B Testing numerical measurements\n",
    "\n",
    "A financial tech company 'X' want to test whether their new app design help people to increase the amount of many that they save (saving rate). Savings rate is the percentage of each user’s monthly paycheck that he or she saves\n",
    "1. Six months ago, our client randomly selected 1,000 newly signed up users and assigned 500 of them to the current design and 500 to the new design.\n",
    "1. The control group went on to use the current app.\n",
    "1. All users started with a 0% savings rate.\n",
    "The 1,000 users represent just a small portion of the app’s total users."
   ]
  },
  {
   "cell_type": "code",
   "execution_count": 1,
   "metadata": {},
   "outputs": [],
   "source": [
    "import numpy as np\n",
    "import pandas as pd\n",
    "import matplotlib.pyplot as plt\n",
    "import seaborn as sns\n",
    "from scipy import stats\n",
    "import random\n",
    "import pingouin as pg"
   ]
  },
  {
   "cell_type": "code",
   "execution_count": 2,
   "metadata": {},
   "outputs": [],
   "source": [
    "np.random.seed(24)\n",
    "y_A = np.random.normal(12,5,500)\n",
    "y_B = np.random.normal(15,5,500)"
   ]
  },
  {
   "cell_type": "code",
   "execution_count": 3,
   "metadata": {},
   "outputs": [
    {
     "data": {
      "text/html": [
       "<div>\n",
       "<style scoped>\n",
       "    .dataframe tbody tr th:only-of-type {\n",
       "        vertical-align: middle;\n",
       "    }\n",
       "\n",
       "    .dataframe tbody tr th {\n",
       "        vertical-align: top;\n",
       "    }\n",
       "\n",
       "    .dataframe thead th {\n",
       "        text-align: right;\n",
       "    }\n",
       "</style>\n",
       "<table border=\"1\" class=\"dataframe\">\n",
       "  <thead>\n",
       "    <tr style=\"text-align: right;\">\n",
       "      <th></th>\n",
       "      <th>design</th>\n",
       "      <th>saving%</th>\n",
       "    </tr>\n",
       "  </thead>\n",
       "  <tbody>\n",
       "    <tr>\n",
       "      <th>0</th>\n",
       "      <td>old design</td>\n",
       "      <td>18.646061</td>\n",
       "    </tr>\n",
       "    <tr>\n",
       "      <th>1</th>\n",
       "      <td>old design</td>\n",
       "      <td>8.149833</td>\n",
       "    </tr>\n",
       "    <tr>\n",
       "      <th>2</th>\n",
       "      <td>old design</td>\n",
       "      <td>10.418598</td>\n",
       "    </tr>\n",
       "    <tr>\n",
       "      <th>3</th>\n",
       "      <td>old design</td>\n",
       "      <td>7.045948</td>\n",
       "    </tr>\n",
       "    <tr>\n",
       "      <th>4</th>\n",
       "      <td>old design</td>\n",
       "      <td>6.645919</td>\n",
       "    </tr>\n",
       "    <tr>\n",
       "      <th>...</th>\n",
       "      <td>...</td>\n",
       "      <td>...</td>\n",
       "    </tr>\n",
       "    <tr>\n",
       "      <th>495</th>\n",
       "      <td>new design</td>\n",
       "      <td>10.563805</td>\n",
       "    </tr>\n",
       "    <tr>\n",
       "      <th>496</th>\n",
       "      <td>new design</td>\n",
       "      <td>16.025084</td>\n",
       "    </tr>\n",
       "    <tr>\n",
       "      <th>497</th>\n",
       "      <td>new design</td>\n",
       "      <td>19.234105</td>\n",
       "    </tr>\n",
       "    <tr>\n",
       "      <th>498</th>\n",
       "      <td>new design</td>\n",
       "      <td>23.694482</td>\n",
       "    </tr>\n",
       "    <tr>\n",
       "      <th>499</th>\n",
       "      <td>new design</td>\n",
       "      <td>24.699584</td>\n",
       "    </tr>\n",
       "  </tbody>\n",
       "</table>\n",
       "<p>1000 rows × 2 columns</p>\n",
       "</div>"
      ],
      "text/plain": [
       "         design    saving%\n",
       "0    old design  18.646061\n",
       "1    old design   8.149833\n",
       "2    old design  10.418598\n",
       "3    old design   7.045948\n",
       "4    old design   6.645919\n",
       "..          ...        ...\n",
       "495  new design  10.563805\n",
       "496  new design  16.025084\n",
       "497  new design  19.234105\n",
       "498  new design  23.694482\n",
       "499  new design  24.699584\n",
       "\n",
       "[1000 rows x 2 columns]"
      ]
     },
     "execution_count": 3,
     "metadata": {},
     "output_type": "execute_result"
    }
   ],
   "source": [
    "df_old = pd.DataFrame({'design': 'old design', 'saving%': y_A})\n",
    "df_new = pd.DataFrame({'design': 'new design', 'saving%': y_B})\n",
    "\n",
    "df = df_old.append(df_new)\n",
    "df"
   ]
  },
  {
   "cell_type": "code",
   "execution_count": 4,
   "metadata": {},
   "outputs": [
    {
     "data": {
      "image/png": "[encoded data removed]",
      "text/plain": [
       "<Figure size 432x288 with 1 Axes>"
      ]
     },
     "metadata": {
      "needs_background": "light"
     },
     "output_type": "display_data"
    }
   ],
   "source": [
    "sns.histplot(df[df['design'] == 'old design']['saving%'], bins=30, color='red', label='Old Design', kde=True)\n",
    "sns.histplot(df[df['design'] == 'new design']['saving%'], bins=30, color='green', label='New Design', kde=True)\n",
    "plt.legend()\n",
    "plt.show()"
   ]
  },
  {
   "cell_type": "code",
   "execution_count": 5,
   "metadata": {},
   "outputs": [
    {
     "data": {
      "image/png": "[encoded data removed]",
      "text/plain": [
       "<Figure size 432x288 with 1 Axes>"
      ]
     },
     "metadata": {
      "needs_background": "light"
     },
     "output_type": "display_data"
    }
   ],
   "source": [
    "sns.boxplot(x='design', y='saving%', data=df)\n",
    "plt.show()"
   ]
  },
  {
   "cell_type": "code",
   "execution_count": 6,
   "metadata": {},
   "outputs": [
    {
     "data": {
      "text/html": [
       "<div>\n",
       "<style scoped>\n",
       "    .dataframe tbody tr th:only-of-type {\n",
       "        vertical-align: middle;\n",
       "    }\n",
       "\n",
       "    .dataframe tbody tr th {\n",
       "        vertical-align: top;\n",
       "    }\n",
       "\n",
       "    .dataframe thead tr th {\n",
       "        text-align: left;\n",
       "    }\n",
       "\n",
       "    .dataframe thead tr:last-of-type th {\n",
       "        text-align: right;\n",
       "    }\n",
       "</style>\n",
       "<table border=\"1\" class=\"dataframe\">\n",
       "  <thead>\n",
       "    <tr>\n",
       "      <th></th>\n",
       "      <th colspan=\"8\" halign=\"left\">saving%</th>\n",
       "    </tr>\n",
       "    <tr>\n",
       "      <th></th>\n",
       "      <th>count</th>\n",
       "      <th>mean</th>\n",
       "      <th>std</th>\n",
       "      <th>min</th>\n",
       "      <th>25%</th>\n",
       "      <th>50%</th>\n",
       "      <th>75%</th>\n",
       "      <th>max</th>\n",
       "    </tr>\n",
       "    <tr>\n",
       "      <th>design</th>\n",
       "      <th></th>\n",
       "      <th></th>\n",
       "      <th></th>\n",
       "      <th></th>\n",
       "      <th></th>\n",
       "      <th></th>\n",
       "      <th></th>\n",
       "      <th></th>\n",
       "    </tr>\n",
       "  </thead>\n",
       "  <tbody>\n",
       "    <tr>\n",
       "      <th>new design</th>\n",
       "      <td>500.0</td>\n",
       "      <td>15.346641</td>\n",
       "      <td>5.157331</td>\n",
       "      <td>0.163051</td>\n",
       "      <td>11.552647</td>\n",
       "      <td>15.482752</td>\n",
       "      <td>19.014818</td>\n",
       "      <td>35.096915</td>\n",
       "    </tr>\n",
       "    <tr>\n",
       "      <th>old design</th>\n",
       "      <td>500.0</td>\n",
       "      <td>11.789305</td>\n",
       "      <td>4.967705</td>\n",
       "      <td>-2.350481</td>\n",
       "      <td>8.488016</td>\n",
       "      <td>11.699120</td>\n",
       "      <td>15.422103</td>\n",
       "      <td>24.129200</td>\n",
       "    </tr>\n",
       "  </tbody>\n",
       "</table>\n",
       "</div>"
      ],
      "text/plain": [
       "           saving%                                                       \\\n",
       "             count       mean       std       min        25%        50%   \n",
       "design                                                                    \n",
       "new design   500.0  15.346641  5.157331  0.163051  11.552647  15.482752   \n",
       "old design   500.0  11.789305  4.967705 -2.350481   8.488016  11.699120   \n",
       "\n",
       "                                  \n",
       "                  75%        max  \n",
       "design                            \n",
       "new design  19.014818  35.096915  \n",
       "old design  15.422103  24.129200  "
      ]
     },
     "execution_count": 6,
     "metadata": {},
     "output_type": "execute_result"
    }
   ],
   "source": [
    "by_design = df.groupby('design')\n",
    "by_design.describe()"
   ]
  },
  {
   "cell_type": "markdown",
   "metadata": {},
   "source": [
    "PICOT:\n",
    "\n",
    "H0 : X financial tech company's clients who recieved new layout will have the same saving rate mean than clients that recieved old layout\n",
    "<br>\n",
    "H1 : X financial tech company's clients who recieved new layout will have higher saving rate mean than clients that recieved old layout\n",
    "\n",
    "\n",
    "bahasa sederhana:\n",
    "\n",
    "H0 : mu_old = mu_new\n",
    "<br>\n",
    "H1 : mu_old < mu_new"
   ]
  },
  {
   "cell_type": "code",
   "execution_count": 20,
   "metadata": {},
   "outputs": [
    {
     "name": "stdout",
     "output_type": "stream",
     "text": [
      "alpha: 0.025\n",
      "pvalue: 4.114133042209267e-27\n",
      "tcrit: -1.984\n",
      "tstat 11.108414528484657\n"
     ]
    }
   ],
   "source": [
    "alpha = 0.05/2\n",
    "t_crit = -1.984 # ini lihat dari table T-Distribution\n",
    "\n",
    "tstat, pvalue = list(stats.stats.ttest_ind(\n",
    "    df[df['design'] == 'old design']['saving%'],\n",
    "    df[df['design'] == 'new design']['saving%'],\n",
    "    equal_var = True\n",
    ")) # urutan berpengaruh\n",
    "print('alpha:', alpha)\n",
    "print('pvalue:', pvalue)\n",
    "print('tcrit:', t_crit)\n",
    "print('tstat', tstat)"
   ]
  },
  {
   "cell_type": "code",
   "execution_count": 15,
   "metadata": {},
   "outputs": [
    {
     "data": {
      "image/png": "[encoded data removed]",
      "text/plain": [
       "<Figure size 720x432 with 1 Axes>"
      ]
     },
     "metadata": {
      "needs_background": "light"
     },
     "output_type": "display_data"
    }
   ],
   "source": [
    "n = len(df)\n",
    "x_axis = [i/10 for i in range(-40,41)]\n",
    "y_axis = [stats.t.pdf(i,n-1) for i in x_axis]\n",
    "\n",
    "plt.figure(figsize=(10,6))\n",
    "plt.plot(x_axis, y_axis)\n",
    "plt.axvspan(t_crit,-12,alpha=0.5,label=f'Rejection Region Tcrit: {t_crit}')\n",
    "plt.axvspan(tstat,-12,alpha=0.5,color='red', label=f'Tstats={tstat}')\n",
    "plt.legend(loc='upper left')\n",
    "plt.show()"
   ]
  },
  {
   "cell_type": "markdown",
   "metadata": {},
   "source": [
    "The P-value is lower than our significant level 0.025, it means we have enough evidence to reject the Null Hypothesis. So, X financial tech company's clients who recieved new layout will have higher saving rate mean than clients that recieved old layout."
   ]
  }
 ],
 "metadata": {
  "kernelspec": {
   "display_name": "Python 3",
   "language": "python",
   "name": "python3"
  },
  "language_info": {
   "codemirror_mode": {
    "name": "ipython",
    "version": 3
   },
   "file_extension": ".py",
   "mimetype": "text/x-python",
   "name": "python",
   "nbconvert_exporter": "python",
   "pygments_lexer": "ipython3",
   "version": "3.7.4"
  }
 },
 "nbformat": 4,
 "nbformat_minor": 4
}
